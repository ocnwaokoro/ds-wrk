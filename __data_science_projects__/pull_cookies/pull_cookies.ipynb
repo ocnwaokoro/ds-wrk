{
 "cells": [
  {
   "cell_type": "code",
   "execution_count": 18,
   "id": "3e1f5423-2e3b-464b-bc3d-6b19cac9410b",
   "metadata": {},
   "outputs": [],
   "source": [
    "import requests\n",
    "from requests import Session"
   ]
  },
  {
   "cell_type": "code",
   "execution_count": 2,
   "id": "c48d8763-05e8-44e0-ba1b-ff7237285373",
   "metadata": {},
   "outputs": [],
   "source": [
    "url = \"https://www.tiktok.com/\"\n",
    "res = requests.get(url)"
   ]
  },
  {
   "cell_type": "code",
   "execution_count": 7,
   "id": "c6c429f9-8582-4827-9524-56cf8bb756a3",
   "metadata": {},
   "outputs": [
    {
     "name": "stdout",
     "output_type": "stream",
     "text": [
      "<RequestsCookieJar[<Cookie _abck=924AB0A1F3132A829033882BDEB1D09F~-1~YAAQvmvaFycgIFCFAQAA0fSiUwljUXfSwji1w+B7wf/5Sh71biOXg57TaaYkm/zP/oY7EAolLGOTmZVN0QY5bMl3gb4EpbNDAak4U9Z9yvGf0vpsWW/xRnpTb9HNrAFIQDXPypBG4LE2X+D42Zx2damNPOdWW1KHWjhRMxCa2y0BZel5ijd3u9KtEYhl/KMYLHJ9LH/x1czr2JE7afJefYhwnUWTgO/pqkz5TF5AvUZljzcNgk46K/wlWMmPTG4EcbmZJx0rcZ81z5LpmyFBP3gBtBzFDMVhoWpjFqbcwbOGFP4iLYR5pEIhUwCJOkiokk35vJMVvh2gFTL9tqjG6fKRF3dNuJzPNP9Xl0GA+JV5UMwt8mlebj8=~-1~-1~-1 for .tiktok.com/>, <Cookie bm_sz=2BE5C0E0851BCCDB252789A758E7EB8E~YAAQvmvaFyggIFCFAQAA0fSiUxLy4a4yATFie0Ut0k4S9fhvakY4Hg7x8JMy9RJM3bz6wLkdjE/W31q6xGAV4z2PF8hTw3ji32T07d+0i3swCOq3SvYsptCzE0vDQbCkgPdA/ucawipD88qthagTfgxJLju3PQXjFVtBq/ar/rOtZKiaoWb+aquGnoIU0Pr+uTuBtAYJPCslxuVZxPs0VcE/QeEnrKfm7ULBHfFbx/Zow+v+S8pN56UXdUgcrIGvUl8EftekWX7KZFMcTILvlS3Y+Q8LcvhVGIgOqUHC82FYN90=~3485751~3424838 for .tiktok.com/>, <Cookie msToken=-QmqSwmMBDZ-rPXc00obxYQUjUDjgzLOLiIVyeyEh0pq22V-HRxU8_QCy7q2lZHd_CBoNk5txL0t0Ge3YZenySvKXQN6wi2peek2xepa0OoFw1fzmM_hAe0= for .tiktok.com/>]>\n"
     ]
    }
   ],
   "source": [
    "print(res.cookies)"
   ]
  },
  {
   "cell_type": "code",
   "execution_count": 11,
   "id": "b8d06911-e655-44fa-98b8-27b67e419c3f",
   "metadata": {},
   "outputs": [],
   "source": [
    "spawn = requests.get(\n",
    "            \"https://www.tiktok.com\",\n",
    "            headers = {\"User-Agent\":\"Mozilla/5.0 (Windows NT 10.0; Win64; x64) AppleWebKit/537.36 (KHTML, like Gecko) Chrome/106.0.0.0 Safari/537.36\"}\n",
    ")"
   ]
  },
  {
   "cell_type": "code",
   "execution_count": 12,
   "id": "ad5d8774-1f73-4cfe-8bb8-89a97b406b22",
   "metadata": {},
   "outputs": [],
   "source": [
    "ttwid = spawn.cookies[\"ttwid\"] "
   ]
  },
  {
   "cell_type": "code",
   "execution_count": 16,
   "id": "9c2199f2-dcb2-44ca-87f6-e53a6bfcd697",
   "metadata": {},
   "outputs": [],
   "source": [
    "msToken = spawn.cookies[\"msToken\"] "
   ]
  },
  {
   "cell_type": "code",
   "execution_count": 19,
   "id": "3322f54d-ab5b-4eb9-9666-af502d90f1c9",
   "metadata": {},
   "outputs": [],
   "source": [
    "session = Session()"
   ]
  },
  {
   "cell_type": "code",
   "execution_count": 20,
   "id": "2460196d-752b-403b-9405-2e2ca829d786",
   "metadata": {},
   "outputs": [],
   "source": [
    "spawn = session.get(\n",
    "            \"https://www.tiktok.com\",\n",
    "            headers = {\"User-Agent\":\"Mozilla/5.0 (Windows NT 10.0; Win64; x64) AppleWebKit/537.36 (KHTML, like Gecko) Chrome/106.0.0.0 Safari/537.36\"}\n",
    ")"
   ]
  },
  {
   "cell_type": "code",
   "execution_count": 21,
   "id": "2df1ed05-2626-41b3-968f-e5bb508beb75",
   "metadata": {},
   "outputs": [
    {
     "data": {
      "text/plain": [
       "'1%7Ck6KPIDtFN9xAkUZznPOGQlmSrCjGsUkcO4hpdIy2_UI%7C1672146320%7Ceb74e0c7a4b4ee3060f9958810ec36c59a501996a3e4b2150f06f158984045e5'"
      ]
     },
     "execution_count": 21,
     "metadata": {},
     "output_type": "execute_result"
    }
   ],
   "source": [
    "spawn.cookies[\"ttwid\"] "
   ]
  },
  {
   "cell_type": "code",
   "execution_count": 24,
   "id": "bbf019c2-9825-47c0-b528-487d967e8663",
   "metadata": {},
   "outputs": [
    {
     "data": {
      "text/plain": [
       "'tb046sGaN5eEcLHHk8gC2U1wOlgArWUpBqBOgh-hFvcPm1IEYfhzwda2Oc-4RTPpD16VuXDH3rQdqXQ7FoaMbFQug8-GIXli_twVB701Y5_7tuR0QaMwskY='"
      ]
     },
     "execution_count": 24,
     "metadata": {},
     "output_type": "execute_result"
    }
   ],
   "source": [
    "spawn.cookies[\"msToken\"] "
   ]
  },
  {
   "cell_type": "code",
   "execution_count": null,
   "id": "796a1fcc-ea5a-4963-bf7e-4bfebfcd2e33",
   "metadata": {},
   "outputs": [],
   "source": []
  }
 ],
 "metadata": {
  "kernelspec": {
   "display_name": "Python 3 (ipykernel)",
   "language": "python",
   "name": "python3"
  },
  "language_info": {
   "codemirror_mode": {
    "name": "ipython",
    "version": 3
   },
   "file_extension": ".py",
   "mimetype": "text/x-python",
   "name": "python",
   "nbconvert_exporter": "python",
   "pygments_lexer": "ipython3",
   "version": "3.9.12"
  }
 },
 "nbformat": 4,
 "nbformat_minor": 5
}
