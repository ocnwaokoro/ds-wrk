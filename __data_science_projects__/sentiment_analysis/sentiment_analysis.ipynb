{
 "cells": [
  {
   "cell_type": "code",
   "execution_count": 1,
   "id": "2c738a32-1458-4a0a-9e0e-0a8182ea819f",
   "metadata": {},
   "outputs": [],
   "source": [
    "import tweepy as tw\n",
    "import numpy as np\n",
    "import pandas as pd\n",
    "from matplotlib import pyplot as plt\n",
    "import config\n",
    "from datetime import datetime"
   ]
  },
  {
   "cell_type": "raw",
   "id": "aca750c9-b720-4a44-9ff6-c59c91ebd938",
   "metadata": {},
   "source": [
    "datetime_str = '10/04/20 0:0:0'\n",
    "\n",
    "datetime_object = datetime.strptime(datetime_str, '%m/%d/%y %H:%M:%S')\n",
    "\n",
    "print(type(datetime_object))\n",
    "print(datetime_object)  # printed in default format"
   ]
  },
  {
   "cell_type": "raw",
   "id": "460b9d23-85ad-49b8-affa-387d285da116",
   "metadata": {},
   "source": [
    "client = tw.Client(bearer_token=config.BEARER_TOKEN)\n",
    "hashtag = '#omnibusbill'\n",
    "res = client.search_recent_tweets(query=hashtag,max_results=10)"
   ]
  },
  {
   "cell_type": "markdown",
   "id": "3e477dd4-5fc6-4bd7-8bc6-6b7f7ab7755e",
   "metadata": {},
   "source": [
    "# 1. Authenticate to Twitter"
   ]
  },
  {
   "cell_type": "code",
   "execution_count": 2,
   "id": "f8808d73-3b9f-48db-8f88-20e992de395a",
   "metadata": {},
   "outputs": [],
   "source": [
    "# Authenticate\n",
    "auth = tw.OAuthHandler(config.CONSUMER_KEY, config.CONSUMER_SECRET)\n",
    "auth.set_access_token(config.ACCESS_TOKEN, config.ACCESS_TOKEN_SECRET)\n",
    "api = tw.API(auth, wait_on_rate_limit=True)"
   ]
  },
  {
   "cell_type": "markdown",
   "id": "4c9c43bf-b2a4-4dd2-8805-1fb35c6d8ed0",
   "metadata": {},
   "source": [
    "# 2. Get Tweets"
   ]
  },
  {
   "cell_type": "code",
   "execution_count": 5,
   "id": "ac9fa0a1-1814-4b75-8cb3-62db9ef2591f",
   "metadata": {},
   "outputs": [],
   "source": [
    "# Use tweepy cursor\n",
    "hashtag = '#trump OR #biden'\n",
    "num = 500\n",
    "# .items(num) brings back num tweets\n",
    "query = tw.Cursor(api.search_tweets, q=hashtag).items(num)\n",
    "# bring info into array for easier access to pandas later on\n",
    "tweets = [{'Tweets':tweet.text, 'Timestamp':tweet.created_at} for tweet in query]"
   ]
  },
  {
   "cell_type": "code",
   "execution_count": 6,
   "id": "f4f5d8e6-c19a-43a7-8225-3053f0c5cd49",
   "metadata": {},
   "outputs": [
    {
     "name": "stdout",
     "output_type": "stream",
     "text": [
      "{'Tweets': 'RT @CupofJoeintheD2: @BillPascrell Who ordered the #IRS not to audit #Trump taxes the first 2 years in Office??!! #HumptyTrumpty needs to b…', 'Timestamp': datetime.datetime(2022, 12, 27, 0, 53, 4, tzinfo=datetime.timezone.utc)}\n"
     ]
    }
   ],
   "source": [
    "print(tweets[0])"
   ]
  },
  {
   "cell_type": "code",
   "execution_count": 8,
   "id": "80297f7f-639c-4c26-be31-821ead57f480",
   "metadata": {},
   "outputs": [
    {
     "data": {
      "text/html": [
       "<div>\n",
       "<style scoped>\n",
       "    .dataframe tbody tr th:only-of-type {\n",
       "        vertical-align: middle;\n",
       "    }\n",
       "\n",
       "    .dataframe tbody tr th {\n",
       "        vertical-align: top;\n",
       "    }\n",
       "\n",
       "    .dataframe thead th {\n",
       "        text-align: right;\n",
       "    }\n",
       "</style>\n",
       "<table border=\"1\" class=\"dataframe\">\n",
       "  <thead>\n",
       "    <tr style=\"text-align: right;\">\n",
       "      <th></th>\n",
       "      <th>Tweets</th>\n",
       "      <th>Timestamp</th>\n",
       "    </tr>\n",
       "  </thead>\n",
       "  <tbody>\n",
       "    <tr>\n",
       "      <th>0</th>\n",
       "      <td>RT @CupofJoeintheD2: @BillPascrell Who ordered...</td>\n",
       "      <td>2022-12-27 00:53:04+00:00</td>\n",
       "    </tr>\n",
       "    <tr>\n",
       "      <th>1</th>\n",
       "      <td>@WeberDarlene Yes, 100%! #Jan6th, everyone kne...</td>\n",
       "      <td>2022-12-27 00:53:00+00:00</td>\n",
       "    </tr>\n",
       "    <tr>\n",
       "      <th>2</th>\n",
       "      <td>RT @mmtchi: 🔥#Twitterfiles10 spécial #Covid.\\n...</td>\n",
       "      <td>2022-12-27 00:52:53+00:00</td>\n",
       "    </tr>\n",
       "    <tr>\n",
       "      <th>3</th>\n",
       "      <td>RT @mmtchi: 🔥#Twitterfiles10 spécial #Covid.\\n...</td>\n",
       "      <td>2022-12-27 00:52:23+00:00</td>\n",
       "    </tr>\n",
       "    <tr>\n",
       "      <th>4</th>\n",
       "      <td>RT @Circonscripti18: ⚡FLASH 📺 #Donbass 🇷🇺 Pend...</td>\n",
       "      <td>2022-12-27 00:52:16+00:00</td>\n",
       "    </tr>\n",
       "  </tbody>\n",
       "</table>\n",
       "</div>"
      ],
      "text/plain": [
       "                                              Tweets                 Timestamp\n",
       "0  RT @CupofJoeintheD2: @BillPascrell Who ordered... 2022-12-27 00:53:04+00:00\n",
       "1  @WeberDarlene Yes, 100%! #Jan6th, everyone kne... 2022-12-27 00:53:00+00:00\n",
       "2  RT @mmtchi: 🔥#Twitterfiles10 spécial #Covid.\\n... 2022-12-27 00:52:53+00:00\n",
       "3  RT @mmtchi: 🔥#Twitterfiles10 spécial #Covid.\\n... 2022-12-27 00:52:23+00:00\n",
       "4  RT @Circonscripti18: ⚡FLASH 📺 #Donbass 🇷🇺 Pend... 2022-12-27 00:52:16+00:00"
      ]
     },
     "execution_count": 8,
     "metadata": {},
     "output_type": "execute_result"
    }
   ],
   "source": [
    "df = pd.DataFrame.from_dict(tweets)\n",
    "df.head()"
   ]
  },
  {
   "cell_type": "code",
   "execution_count": 9,
   "id": "a21e4544-4c8a-4502-b601-056d5b881229",
   "metadata": {},
   "outputs": [],
   "source": [
    "trump_refs = ['DonaldTrump','Donald Trump','Donald','Trump','Trump\\'s']\n",
    "biden_refs = ['JoeBiden','Joe Biden','Joe','Biden','Biden\\'s']"
   ]
  },
  {
   "cell_type": "code",
   "execution_count": 11,
   "id": "4b411b9e-64cb-4a78-bd8d-72cfc29137ad",
   "metadata": {},
   "outputs": [],
   "source": [
    "def identify_subject(tweet, refs):\n",
    "    flag = 0\n",
    "    for ref in refs:\n",
    "        if tweet.find(ref)!=-1:\n",
    "            flag = 1\n",
    "    return flag\n",
    "df['Trump'] = df['Tweets'].apply(lambda x: identify_subject(x, trump_refs))\n",
    "df['Biden'] = df['Tweets'].apply(lambda x: identify_subject(x, biden_refs))"
   ]
  },
  {
   "cell_type": "code",
   "execution_count": 15,
   "id": "5b916d19-ed10-436d-a280-f48a1ec4dfc6",
   "metadata": {},
   "outputs": [
    {
     "data": {
      "text/html": [
       "<div>\n",
       "<style scoped>\n",
       "    .dataframe tbody tr th:only-of-type {\n",
       "        vertical-align: middle;\n",
       "    }\n",
       "\n",
       "    .dataframe tbody tr th {\n",
       "        vertical-align: top;\n",
       "    }\n",
       "\n",
       "    .dataframe thead th {\n",
       "        text-align: right;\n",
       "    }\n",
       "</style>\n",
       "<table border=\"1\" class=\"dataframe\">\n",
       "  <thead>\n",
       "    <tr style=\"text-align: right;\">\n",
       "      <th></th>\n",
       "      <th>Tweets</th>\n",
       "      <th>Timestamp</th>\n",
       "      <th>Trump</th>\n",
       "      <th>Biden</th>\n",
       "    </tr>\n",
       "  </thead>\n",
       "  <tbody>\n",
       "    <tr>\n",
       "      <th>0</th>\n",
       "      <td>RT @CupofJoeintheD2: @BillPascrell Who ordered...</td>\n",
       "      <td>2022-12-27 00:53:04+00:00</td>\n",
       "      <td>1</td>\n",
       "      <td>1</td>\n",
       "    </tr>\n",
       "    <tr>\n",
       "      <th>2</th>\n",
       "      <td>RT @mmtchi: 🔥#Twitterfiles10 spécial #Covid.\\n...</td>\n",
       "      <td>2022-12-27 00:52:53+00:00</td>\n",
       "      <td>0</td>\n",
       "      <td>1</td>\n",
       "    </tr>\n",
       "    <tr>\n",
       "      <th>3</th>\n",
       "      <td>RT @mmtchi: 🔥#Twitterfiles10 spécial #Covid.\\n...</td>\n",
       "      <td>2022-12-27 00:52:23+00:00</td>\n",
       "      <td>0</td>\n",
       "      <td>1</td>\n",
       "    </tr>\n",
       "    <tr>\n",
       "      <th>4</th>\n",
       "      <td>RT @Circonscripti18: ⚡FLASH 📺 #Donbass 🇷🇺 Pend...</td>\n",
       "      <td>2022-12-27 00:52:16+00:00</td>\n",
       "      <td>0</td>\n",
       "      <td>1</td>\n",
       "    </tr>\n",
       "    <tr>\n",
       "      <th>5</th>\n",
       "      <td>RT @GeorgeGarbow3: #ElonMusk #FreeSpeech #MAGA...</td>\n",
       "      <td>2022-12-27 00:52:16+00:00</td>\n",
       "      <td>1</td>\n",
       "      <td>1</td>\n",
       "    </tr>\n",
       "    <tr>\n",
       "      <th>...</th>\n",
       "      <td>...</td>\n",
       "      <td>...</td>\n",
       "      <td>...</td>\n",
       "      <td>...</td>\n",
       "    </tr>\n",
       "    <tr>\n",
       "      <th>486</th>\n",
       "      <td>Here’s How Many Migrants Have Crossed The Sout...</td>\n",
       "      <td>2022-12-26 23:37:44+00:00</td>\n",
       "      <td>0</td>\n",
       "      <td>1</td>\n",
       "    </tr>\n",
       "    <tr>\n",
       "      <th>487</th>\n",
       "      <td>And the Oscar goes to.... #Zelensky #Biden htt...</td>\n",
       "      <td>2022-12-26 23:37:33+00:00</td>\n",
       "      <td>0</td>\n",
       "      <td>1</td>\n",
       "    </tr>\n",
       "    <tr>\n",
       "      <th>489</th>\n",
       "      <td>🇺🇸🇺🇦 Mi è sfuggita la parte importante dell'in...</td>\n",
       "      <td>2022-12-26 23:37:24+00:00</td>\n",
       "      <td>0</td>\n",
       "      <td>1</td>\n",
       "    </tr>\n",
       "    <tr>\n",
       "      <th>493</th>\n",
       "      <td>RT @mmtchi: 🔥#Twitterfiles10 spécial #Covid.\\n...</td>\n",
       "      <td>2022-12-26 23:36:38+00:00</td>\n",
       "      <td>0</td>\n",
       "      <td>1</td>\n",
       "    </tr>\n",
       "    <tr>\n",
       "      <th>499</th>\n",
       "      <td>RT @mmtchi: 🔥#Twitterfiles10 spécial #Covid.\\n...</td>\n",
       "      <td>2022-12-26 23:35:56+00:00</td>\n",
       "      <td>0</td>\n",
       "      <td>1</td>\n",
       "    </tr>\n",
       "  </tbody>\n",
       "</table>\n",
       "<p>158 rows × 4 columns</p>\n",
       "</div>"
      ],
      "text/plain": [
       "                                                Tweets  \\\n",
       "0    RT @CupofJoeintheD2: @BillPascrell Who ordered...   \n",
       "2    RT @mmtchi: 🔥#Twitterfiles10 spécial #Covid.\\n...   \n",
       "3    RT @mmtchi: 🔥#Twitterfiles10 spécial #Covid.\\n...   \n",
       "4    RT @Circonscripti18: ⚡FLASH 📺 #Donbass 🇷🇺 Pend...   \n",
       "5    RT @GeorgeGarbow3: #ElonMusk #FreeSpeech #MAGA...   \n",
       "..                                                 ...   \n",
       "486  Here’s How Many Migrants Have Crossed The Sout...   \n",
       "487  And the Oscar goes to.... #Zelensky #Biden htt...   \n",
       "489  🇺🇸🇺🇦 Mi è sfuggita la parte importante dell'in...   \n",
       "493  RT @mmtchi: 🔥#Twitterfiles10 spécial #Covid.\\n...   \n",
       "499  RT @mmtchi: 🔥#Twitterfiles10 spécial #Covid.\\n...   \n",
       "\n",
       "                    Timestamp  Trump  Biden  \n",
       "0   2022-12-27 00:53:04+00:00      1      1  \n",
       "2   2022-12-27 00:52:53+00:00      0      1  \n",
       "3   2022-12-27 00:52:23+00:00      0      1  \n",
       "4   2022-12-27 00:52:16+00:00      0      1  \n",
       "5   2022-12-27 00:52:16+00:00      1      1  \n",
       "..                        ...    ...    ...  \n",
       "486 2022-12-26 23:37:44+00:00      0      1  \n",
       "487 2022-12-26 23:37:33+00:00      0      1  \n",
       "489 2022-12-26 23:37:24+00:00      0      1  \n",
       "493 2022-12-26 23:36:38+00:00      0      1  \n",
       "499 2022-12-26 23:35:56+00:00      0      1  \n",
       "\n",
       "[158 rows x 4 columns]"
      ]
     },
     "execution_count": 15,
     "metadata": {},
     "output_type": "execute_result"
    }
   ],
   "source": [
    "df[df['Biden']==1]"
   ]
  },
  {
   "cell_type": "markdown",
   "id": "38808723-12d2-45c1-9f0b-d4a8887366b1",
   "metadata": {},
   "source": [
    "# 3. Preprocess"
   ]
  },
  {
   "cell_type": "code",
   "execution_count": 18,
   "id": "59af3e0c-bca0-4afa-bbff-219bdf0da413",
   "metadata": {},
   "outputs": [],
   "source": [
    "# import stopwords\n",
    "import nltk\n",
    "from nltk.corpus import stopwords\n",
    "\n",
    "# import textblob\n",
    "from textblob import Word, TextBlob"
   ]
  },
  {
   "cell_type": "code",
   "execution_count": 23,
   "id": "13c8d2c6-cd57-4235-b85d-f695fa23dd6e",
   "metadata": {},
   "outputs": [
    {
     "name": "stderr",
     "output_type": "stream",
     "text": [
      "[nltk_data] Downloading package stopwords to\n",
      "[nltk_data]     /Users/ocnwaokoro/nltk_data...\n",
      "[nltk_data]   Package stopwords is already up-to-date!\n",
      "[nltk_data] Downloading package wordnet to\n",
      "[nltk_data]     /Users/ocnwaokoro/nltk_data...\n",
      "[nltk_data]   Package wordnet is already up-to-date!\n",
      "[nltk_data] Downloading package omw-1.4 to\n",
      "[nltk_data]     /Users/ocnwaokoro/nltk_data...\n",
      "[nltk_data]   Package omw-1.4 is already up-to-date!\n"
     ]
    },
    {
     "data": {
      "text/plain": [
       "True"
      ]
     },
     "execution_count": 23,
     "metadata": {},
     "output_type": "execute_result"
    }
   ],
   "source": [
    "nltk.download('stopwords')\n",
    "nltk.download('wordnet')\n",
    "nltk.download('omw-1.4')"
   ]
  },
  {
   "cell_type": "code",
   "execution_count": 22,
   "id": "2fd36592-b730-4a19-9375-9c011918adfd",
   "metadata": {},
   "outputs": [],
   "source": [
    "stopwords = stopwords.words('english')\n",
    "custom_stopwords = ['RT']"
   ]
  },
  {
   "cell_type": "code",
   "execution_count": 25,
   "id": "b8567dfa-1771-4b26-b363-59e93d587f62",
   "metadata": {},
   "outputs": [
    {
     "data": {
      "text/html": [
       "<div>\n",
       "<style scoped>\n",
       "    .dataframe tbody tr th:only-of-type {\n",
       "        vertical-align: middle;\n",
       "    }\n",
       "\n",
       "    .dataframe tbody tr th {\n",
       "        vertical-align: top;\n",
       "    }\n",
       "\n",
       "    .dataframe thead th {\n",
       "        text-align: right;\n",
       "    }\n",
       "</style>\n",
       "<table border=\"1\" class=\"dataframe\">\n",
       "  <thead>\n",
       "    <tr style=\"text-align: right;\">\n",
       "      <th></th>\n",
       "      <th>Tweets</th>\n",
       "      <th>Timestamp</th>\n",
       "      <th>Trump</th>\n",
       "      <th>Biden</th>\n",
       "      <th>Processed Tweet</th>\n",
       "    </tr>\n",
       "  </thead>\n",
       "  <tbody>\n",
       "    <tr>\n",
       "      <th>0</th>\n",
       "      <td>RT @CupofJoeintheD2: @BillPascrell Who ordered...</td>\n",
       "      <td>2022-12-27 00:53:04+00:00</td>\n",
       "      <td>1</td>\n",
       "      <td>1</td>\n",
       "      <td>@CupofJoeintheD2: @BillPascrell Who ordered #I...</td>\n",
       "    </tr>\n",
       "    <tr>\n",
       "      <th>1</th>\n",
       "      <td>@WeberDarlene Yes, 100%! #Jan6th, everyone kne...</td>\n",
       "      <td>2022-12-27 00:53:00+00:00</td>\n",
       "      <td>1</td>\n",
       "      <td>0</td>\n",
       "      <td>@WeberDarlene Yes, 100%! #Jan6th, everyone kne...</td>\n",
       "    </tr>\n",
       "    <tr>\n",
       "      <th>2</th>\n",
       "      <td>RT @mmtchi: 🔥#Twitterfiles10 spécial #Covid.\\n...</td>\n",
       "      <td>2022-12-27 00:52:53+00:00</td>\n",
       "      <td>0</td>\n",
       "      <td>1</td>\n",
       "      <td>@mmtchi: 🔥#Twitterfiles10 spécial #Covid. Comm...</td>\n",
       "    </tr>\n",
       "    <tr>\n",
       "      <th>3</th>\n",
       "      <td>RT @mmtchi: 🔥#Twitterfiles10 spécial #Covid.\\n...</td>\n",
       "      <td>2022-12-27 00:52:23+00:00</td>\n",
       "      <td>0</td>\n",
       "      <td>1</td>\n",
       "      <td>@mmtchi: 🔥#Twitterfiles10 spécial #Covid. Comm...</td>\n",
       "    </tr>\n",
       "    <tr>\n",
       "      <th>4</th>\n",
       "      <td>RT @Circonscripti18: ⚡FLASH 📺 #Donbass 🇷🇺 Pend...</td>\n",
       "      <td>2022-12-27 00:52:16+00:00</td>\n",
       "      <td>0</td>\n",
       "      <td>1</td>\n",
       "      <td>@Circonscripti18: ⚡FLASH 📺 #Donbass 🇷🇺 Pendant...</td>\n",
       "    </tr>\n",
       "  </tbody>\n",
       "</table>\n",
       "</div>"
      ],
      "text/plain": [
       "                                              Tweets  \\\n",
       "0  RT @CupofJoeintheD2: @BillPascrell Who ordered...   \n",
       "1  @WeberDarlene Yes, 100%! #Jan6th, everyone kne...   \n",
       "2  RT @mmtchi: 🔥#Twitterfiles10 spécial #Covid.\\n...   \n",
       "3  RT @mmtchi: 🔥#Twitterfiles10 spécial #Covid.\\n...   \n",
       "4  RT @Circonscripti18: ⚡FLASH 📺 #Donbass 🇷🇺 Pend...   \n",
       "\n",
       "                  Timestamp  Trump  Biden  \\\n",
       "0 2022-12-27 00:53:04+00:00      1      1   \n",
       "1 2022-12-27 00:53:00+00:00      1      0   \n",
       "2 2022-12-27 00:52:53+00:00      0      1   \n",
       "3 2022-12-27 00:52:23+00:00      0      1   \n",
       "4 2022-12-27 00:52:16+00:00      0      1   \n",
       "\n",
       "                                     Processed Tweet  \n",
       "0  @CupofJoeintheD2: @BillPascrell Who ordered #I...  \n",
       "1  @WeberDarlene Yes, 100%! #Jan6th, everyone kne...  \n",
       "2  @mmtchi: 🔥#Twitterfiles10 spécial #Covid. Comm...  \n",
       "3  @mmtchi: 🔥#Twitterfiles10 spécial #Covid. Comm...  \n",
       "4  @Circonscripti18: ⚡FLASH 📺 #Donbass 🇷🇺 Pendant...  "
      ]
     },
     "execution_count": 25,
     "metadata": {},
     "output_type": "execute_result"
    }
   ],
   "source": [
    "def preprocess_tweets(tweet, custom_stopwords):\n",
    "    preprocessed_tweet = tweet\n",
    "    preprocessed_tweet.replace('[^\\w\\s]','')\n",
    "    preprocessed_tweet = ' '.join(word for word in preprocessed_tweet.split() if word not in stopwords)\n",
    "    preprocessed_tweet = ' '.join(word for word in preprocessed_tweet.split() if word not in custom_stopwords)\n",
    "    # lemmatize takes a word & reduces it to its base form (i.e. debates -> debate)\n",
    "    preprocessed_tweet = ' '.join(Word(word).lemmatize() for word in preprocessed_tweet.split())\n",
    "    return(preprocessed_tweet)\n",
    "\n",
    "df['Processed Tweet'] = df['Tweets'].apply(lambda x:  preprocess_tweets(x, custom_stopwords))\n",
    "df.head()"
   ]
  },
  {
   "cell_type": "markdown",
   "id": "22836583-6ef9-481e-a91e-2904215c1709",
   "metadata": {},
   "source": [
    "# 4. Calculate Sentiment"
   ]
  },
  {
   "cell_type": "code",
   "execution_count": 26,
   "id": "d2a1e4eb-348e-430e-8d4d-bf8faf6792b6",
   "metadata": {},
   "outputs": [],
   "source": [
    "# polarity: score from -1 to 1 about how positive or negative a sentiment is\n",
    "df['polarity'] = df['Processed Tweet'].apply(lambda x: TextBlob(x).sentiment[0])\n",
    "# subjectivity: score from 0 to 1 that dictates how much a piece of text is influenced by emotion\n",
    "df['subjectivity'] = df['Processed Tweet'].apply(lambda x: TextBlob(x).sentiment[1])"
   ]
  },
  {
   "cell_type": "code",
   "execution_count": 28,
   "id": "53572b19-bfa5-43f9-95da-bf37d7776679",
   "metadata": {},
   "outputs": [
    {
     "data": {
      "text/html": [
       "<div>\n",
       "<style scoped>\n",
       "    .dataframe tbody tr th:only-of-type {\n",
       "        vertical-align: middle;\n",
       "    }\n",
       "\n",
       "    .dataframe tbody tr th {\n",
       "        vertical-align: top;\n",
       "    }\n",
       "\n",
       "    .dataframe thead th {\n",
       "        text-align: right;\n",
       "    }\n",
       "</style>\n",
       "<table border=\"1\" class=\"dataframe\">\n",
       "  <thead>\n",
       "    <tr style=\"text-align: right;\">\n",
       "      <th></th>\n",
       "      <th>Tweets</th>\n",
       "      <th>Timestamp</th>\n",
       "      <th>Trump</th>\n",
       "      <th>Biden</th>\n",
       "      <th>Processed Tweet</th>\n",
       "      <th>polarity</th>\n",
       "      <th>subjectivity</th>\n",
       "    </tr>\n",
       "  </thead>\n",
       "  <tbody>\n",
       "    <tr>\n",
       "      <th>0</th>\n",
       "      <td>RT @CupofJoeintheD2: @BillPascrell Who ordered...</td>\n",
       "      <td>2022-12-27 00:53:04+00:00</td>\n",
       "      <td>1</td>\n",
       "      <td>1</td>\n",
       "      <td>@CupofJoeintheD2: @BillPascrell Who ordered #I...</td>\n",
       "      <td>0.390625</td>\n",
       "      <td>0.333333</td>\n",
       "    </tr>\n",
       "    <tr>\n",
       "      <th>1</th>\n",
       "      <td>@WeberDarlene Yes, 100%! #Jan6th, everyone kne...</td>\n",
       "      <td>2022-12-27 00:53:00+00:00</td>\n",
       "      <td>1</td>\n",
       "      <td>0</td>\n",
       "      <td>@WeberDarlene Yes, 100%! #Jan6th, everyone kne...</td>\n",
       "      <td>0.000000</td>\n",
       "      <td>0.000000</td>\n",
       "    </tr>\n",
       "    <tr>\n",
       "      <th>2</th>\n",
       "      <td>RT @mmtchi: 🔥#Twitterfiles10 spécial #Covid.\\n...</td>\n",
       "      <td>2022-12-27 00:52:53+00:00</td>\n",
       "      <td>0</td>\n",
       "      <td>1</td>\n",
       "      <td>@mmtchi: 🔥#Twitterfiles10 spécial #Covid. Comm...</td>\n",
       "      <td>0.000000</td>\n",
       "      <td>0.000000</td>\n",
       "    </tr>\n",
       "    <tr>\n",
       "      <th>3</th>\n",
       "      <td>RT @mmtchi: 🔥#Twitterfiles10 spécial #Covid.\\n...</td>\n",
       "      <td>2022-12-27 00:52:23+00:00</td>\n",
       "      <td>0</td>\n",
       "      <td>1</td>\n",
       "      <td>@mmtchi: 🔥#Twitterfiles10 spécial #Covid. Comm...</td>\n",
       "      <td>0.000000</td>\n",
       "      <td>0.000000</td>\n",
       "    </tr>\n",
       "    <tr>\n",
       "      <th>4</th>\n",
       "      <td>RT @Circonscripti18: ⚡FLASH 📺 #Donbass 🇷🇺 Pend...</td>\n",
       "      <td>2022-12-27 00:52:16+00:00</td>\n",
       "      <td>0</td>\n",
       "      <td>1</td>\n",
       "      <td>@Circonscripti18: ⚡FLASH 📺 #Donbass 🇷🇺 Pendant...</td>\n",
       "      <td>0.000000</td>\n",
       "      <td>0.000000</td>\n",
       "    </tr>\n",
       "  </tbody>\n",
       "</table>\n",
       "</div>"
      ],
      "text/plain": [
       "                                              Tweets  \\\n",
       "0  RT @CupofJoeintheD2: @BillPascrell Who ordered...   \n",
       "1  @WeberDarlene Yes, 100%! #Jan6th, everyone kne...   \n",
       "2  RT @mmtchi: 🔥#Twitterfiles10 spécial #Covid.\\n...   \n",
       "3  RT @mmtchi: 🔥#Twitterfiles10 spécial #Covid.\\n...   \n",
       "4  RT @Circonscripti18: ⚡FLASH 📺 #Donbass 🇷🇺 Pend...   \n",
       "\n",
       "                  Timestamp  Trump  Biden  \\\n",
       "0 2022-12-27 00:53:04+00:00      1      1   \n",
       "1 2022-12-27 00:53:00+00:00      1      0   \n",
       "2 2022-12-27 00:52:53+00:00      0      1   \n",
       "3 2022-12-27 00:52:23+00:00      0      1   \n",
       "4 2022-12-27 00:52:16+00:00      0      1   \n",
       "\n",
       "                                     Processed Tweet  polarity  subjectivity  \n",
       "0  @CupofJoeintheD2: @BillPascrell Who ordered #I...  0.390625      0.333333  \n",
       "1  @WeberDarlene Yes, 100%! #Jan6th, everyone kne...  0.000000      0.000000  \n",
       "2  @mmtchi: 🔥#Twitterfiles10 spécial #Covid. Comm...  0.000000      0.000000  \n",
       "3  @mmtchi: 🔥#Twitterfiles10 spécial #Covid. Comm...  0.000000      0.000000  \n",
       "4  @Circonscripti18: ⚡FLASH 📺 #Donbass 🇷🇺 Pendant...  0.000000      0.000000  "
      ]
     },
     "execution_count": 28,
     "metadata": {},
     "output_type": "execute_result"
    }
   ],
   "source": [
    "df.head()"
   ]
  },
  {
   "cell_type": "code",
   "execution_count": 31,
   "id": "554a3b14-d76b-4575-a311-c4961f07fa16",
   "metadata": {},
   "outputs": [
    {
     "data": {
      "text/html": [
       "<div>\n",
       "<style scoped>\n",
       "    .dataframe tbody tr th:only-of-type {\n",
       "        vertical-align: middle;\n",
       "    }\n",
       "\n",
       "    .dataframe tbody tr th {\n",
       "        vertical-align: top;\n",
       "    }\n",
       "\n",
       "    .dataframe thead tr th {\n",
       "        text-align: left;\n",
       "    }\n",
       "\n",
       "    .dataframe thead tr:last-of-type th {\n",
       "        text-align: right;\n",
       "    }\n",
       "</style>\n",
       "<table border=\"1\" class=\"dataframe\">\n",
       "  <thead>\n",
       "    <tr>\n",
       "      <th></th>\n",
       "      <th colspan=\"4\" halign=\"left\">polarity</th>\n",
       "      <th colspan=\"4\" halign=\"left\">subjectivity</th>\n",
       "    </tr>\n",
       "    <tr>\n",
       "      <th></th>\n",
       "      <th>mean</th>\n",
       "      <th>amax</th>\n",
       "      <th>amin</th>\n",
       "      <th>median</th>\n",
       "      <th>mean</th>\n",
       "      <th>amax</th>\n",
       "      <th>amin</th>\n",
       "      <th>median</th>\n",
       "    </tr>\n",
       "    <tr>\n",
       "      <th>Trump</th>\n",
       "      <th></th>\n",
       "      <th></th>\n",
       "      <th></th>\n",
       "      <th></th>\n",
       "      <th></th>\n",
       "      <th></th>\n",
       "      <th></th>\n",
       "      <th></th>\n",
       "    </tr>\n",
       "  </thead>\n",
       "  <tbody>\n",
       "    <tr>\n",
       "      <th>1</th>\n",
       "      <td>-0.009733</td>\n",
       "      <td>1.0</td>\n",
       "      <td>-0.5</td>\n",
       "      <td>0.0</td>\n",
       "      <td>0.226506</td>\n",
       "      <td>1.0</td>\n",
       "      <td>0.0</td>\n",
       "      <td>0.0</td>\n",
       "    </tr>\n",
       "  </tbody>\n",
       "</table>\n",
       "</div>"
      ],
      "text/plain": [
       "       polarity                  subjectivity                 \n",
       "           mean amax amin median         mean amax amin median\n",
       "Trump                                                         \n",
       "1     -0.009733  1.0 -0.5    0.0     0.226506  1.0  0.0    0.0"
      ]
     },
     "metadata": {},
     "output_type": "display_data"
    },
    {
     "data": {
      "text/html": [
       "<div>\n",
       "<style scoped>\n",
       "    .dataframe tbody tr th:only-of-type {\n",
       "        vertical-align: middle;\n",
       "    }\n",
       "\n",
       "    .dataframe tbody tr th {\n",
       "        vertical-align: top;\n",
       "    }\n",
       "\n",
       "    .dataframe thead tr th {\n",
       "        text-align: left;\n",
       "    }\n",
       "\n",
       "    .dataframe thead tr:last-of-type th {\n",
       "        text-align: right;\n",
       "    }\n",
       "</style>\n",
       "<table border=\"1\" class=\"dataframe\">\n",
       "  <thead>\n",
       "    <tr>\n",
       "      <th></th>\n",
       "      <th colspan=\"4\" halign=\"left\">polarity</th>\n",
       "      <th colspan=\"4\" halign=\"left\">subjectivity</th>\n",
       "    </tr>\n",
       "    <tr>\n",
       "      <th></th>\n",
       "      <th>mean</th>\n",
       "      <th>amax</th>\n",
       "      <th>amin</th>\n",
       "      <th>median</th>\n",
       "      <th>mean</th>\n",
       "      <th>amax</th>\n",
       "      <th>amin</th>\n",
       "      <th>median</th>\n",
       "    </tr>\n",
       "    <tr>\n",
       "      <th>Biden</th>\n",
       "      <th></th>\n",
       "      <th></th>\n",
       "      <th></th>\n",
       "      <th></th>\n",
       "      <th></th>\n",
       "      <th></th>\n",
       "      <th></th>\n",
       "      <th></th>\n",
       "    </tr>\n",
       "  </thead>\n",
       "  <tbody>\n",
       "    <tr>\n",
       "      <th>1</th>\n",
       "      <td>0.030401</td>\n",
       "      <td>0.8</td>\n",
       "      <td>-0.8</td>\n",
       "      <td>0.0</td>\n",
       "      <td>0.13874</td>\n",
       "      <td>1.0</td>\n",
       "      <td>0.0</td>\n",
       "      <td>0.0</td>\n",
       "    </tr>\n",
       "  </tbody>\n",
       "</table>\n",
       "</div>"
      ],
      "text/plain": [
       "       polarity                  subjectivity                 \n",
       "           mean amax amin median         mean amax amin median\n",
       "Biden                                                         \n",
       "1      0.030401  0.8 -0.8    0.0      0.13874  1.0  0.0    0.0"
      ]
     },
     "metadata": {},
     "output_type": "display_data"
    }
   ],
   "source": [
    "display(df[df['Trump']==1][['Trump','polarity','subjectivity']].groupby('Trump').agg([np.mean, np.max, np.min, np.median]))\n",
    "display(df[df['Biden']==1][['Biden','polarity','subjectivity']].groupby('Biden').agg([np.mean, np.max, np.min, np.median]))"
   ]
  },
  {
   "cell_type": "markdown",
   "id": "00eed112-dbb6-401d-9a9c-7f7d6aa8629c",
   "metadata": {},
   "source": [
    "# 5. Visualize"
   ]
  },
  {
   "cell_type": "code",
   "execution_count": 33,
   "id": "daf5af79-82ae-429c-8e31-63a65fffba82",
   "metadata": {},
   "outputs": [],
   "source": [
    "biden = df[df['Biden']==1][['Timestamp','polarity']]\n",
    "biden = biden.sort_values(by='Timestamp', ascending=True)\n",
    "# ten tweet rolling average that only starts after 3 periods\n",
    "biden['MA Polarity'] = biden['polarity'].rolling(10, min_periods=3).mean()\n",
    "\n",
    "trump = df[df['Trump']==1][['Timestamp','polarity']]\n",
    "trump = trump.sort_values(by='Timestamp', ascending=True)\n",
    "trump['MA Polarity'] = trump['polarity'].rolling(10, min_periods=3).mean()"
   ]
  },
  {
   "cell_type": "code",
   "execution_count": 35,
   "id": "57be531a-8686-4056-92a8-9876ade955b2",
   "metadata": {},
   "outputs": [
    {
     "data": {
      "text/html": [
       "<div>\n",
       "<style scoped>\n",
       "    .dataframe tbody tr th:only-of-type {\n",
       "        vertical-align: middle;\n",
       "    }\n",
       "\n",
       "    .dataframe tbody tr th {\n",
       "        vertical-align: top;\n",
       "    }\n",
       "\n",
       "    .dataframe thead th {\n",
       "        text-align: right;\n",
       "    }\n",
       "</style>\n",
       "<table border=\"1\" class=\"dataframe\">\n",
       "  <thead>\n",
       "    <tr style=\"text-align: right;\">\n",
       "      <th></th>\n",
       "      <th>Timestamp</th>\n",
       "      <th>polarity</th>\n",
       "      <th>MA Polarity</th>\n",
       "    </tr>\n",
       "  </thead>\n",
       "  <tbody>\n",
       "    <tr>\n",
       "      <th>498</th>\n",
       "      <td>2022-12-26 23:36:00+00:00</td>\n",
       "      <td>0.00</td>\n",
       "      <td>NaN</td>\n",
       "    </tr>\n",
       "    <tr>\n",
       "      <th>497</th>\n",
       "      <td>2022-12-26 23:36:03+00:00</td>\n",
       "      <td>-0.50</td>\n",
       "      <td>NaN</td>\n",
       "    </tr>\n",
       "    <tr>\n",
       "      <th>492</th>\n",
       "      <td>2022-12-26 23:36:40+00:00</td>\n",
       "      <td>0.00</td>\n",
       "      <td>-0.166667</td>\n",
       "    </tr>\n",
       "    <tr>\n",
       "      <th>488</th>\n",
       "      <td>2022-12-26 23:37:30+00:00</td>\n",
       "      <td>-0.05</td>\n",
       "      <td>-0.137500</td>\n",
       "    </tr>\n",
       "    <tr>\n",
       "      <th>485</th>\n",
       "      <td>2022-12-26 23:38:00+00:00</td>\n",
       "      <td>0.00</td>\n",
       "      <td>-0.110000</td>\n",
       "    </tr>\n",
       "  </tbody>\n",
       "</table>\n",
       "</div>"
      ],
      "text/plain": [
       "                    Timestamp  polarity  MA Polarity\n",
       "498 2022-12-26 23:36:00+00:00      0.00          NaN\n",
       "497 2022-12-26 23:36:03+00:00     -0.50          NaN\n",
       "492 2022-12-26 23:36:40+00:00      0.00    -0.166667\n",
       "488 2022-12-26 23:37:30+00:00     -0.05    -0.137500\n",
       "485 2022-12-26 23:38:00+00:00      0.00    -0.110000"
      ]
     },
     "metadata": {},
     "output_type": "display_data"
    }
   ],
   "source": [
    "display(trump.head())"
   ]
  },
  {
   "cell_type": "code",
   "execution_count": 36,
   "id": "2bd0eaae-99b0-463a-a51b-4721b49dd72f",
   "metadata": {},
   "outputs": [
    {
     "data": {
      "image/png": "[encoded data removed]",
      "text/plain": [
       "<Figure size 936x720 with 2 Axes>"
      ]
     },
     "metadata": {
      "needs_background": "light"
     },
     "output_type": "display_data"
    }
   ],
   "source": [
    "repub = 'red'\n",
    "demo = 'blue'\n",
    "\n",
    "fig, axes = plt.subplots(2, 1, figsize=(13, 10))\n",
    "\n",
    "axes[0].plot(biden['Timestamp'], biden['MA Polarity'])\n",
    "axes[0].set_title(\"\\n\".join([\"Biden Polarity\"]))\n",
    "axes[1].plot(trump['Timestamp'], trump['MA Polarity'], color='red')\n",
    "axes[1].set_title(\"\\n\".join([\"Trump Polarity\"]))\n",
    "\n",
    "fig.suptitle(\"\\n\".join([\"Presidential Debate Analysis\"]), y=0.98)\n",
    "\n",
    "plt.show()"
   ]
  },
  {
   "cell_type": "code",
   "execution_count": null,
   "id": "cca4365b-cf9a-4dcd-89e2-294c15a67dca",
   "metadata": {},
   "outputs": [],
   "source": []
  }
 ],
 "metadata": {
  "kernelspec": {
   "display_name": "Python 3 (ipykernel)",
   "language": "python",
   "name": "python3"
  },
  "language_info": {
   "codemirror_mode": {
    "name": "ipython",
    "version": 3
   },
   "file_extension": ".py",
   "mimetype": "text/x-python",
   "name": "python",
   "nbconvert_exporter": "python",
   "pygments_lexer": "ipython3",
   "version": "3.9.12"
  }
 },
 "nbformat": 4,
 "nbformat_minor": 5
}
