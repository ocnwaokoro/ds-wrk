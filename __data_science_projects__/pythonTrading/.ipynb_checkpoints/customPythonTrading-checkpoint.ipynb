{
 "cells": [
  {
   "cell_type": "markdown",
   "id": "0f42a863-ad88-44ef-812e-095d835e70ab",
   "metadata": {},
   "source": [
    "# 1. Setup"
   ]
  },
  {
   "cell_type": "code",
   "execution_count": 1,
   "id": "a48eb9fa-cebf-4e5e-9de7-92ea39743570",
   "metadata": {},
   "outputs": [],
   "source": [
    "# Gym stuff\n",
    "import gym\n",
    "import gym_anytrading\n",
    "\n",
    "# Stable baselines - rl stuff\n",
    "from stable_baselines3.common.vec_env import DummyVecEnv\n",
    "from stable_baselines3 import A2C, PPO\n",
    "from stable_baselines3.a2c import MlpPolicy\n",
    "from stable_baselines3.ppo import MlpPolicy\n",
    "\n",
    "# Processing libraries\n",
    "import numpy as np\n",
    "import pandas as pd\n",
    "from matplotlib import pyplot as plt\n",
    "\n",
    "# finacial technical analysis\n",
    "import finta\n",
    "\n",
    "# calc sma, rsi, obv\n",
    "# relative strength index - technical traders\n",
    "# simple moving average\n",
    "# obv tied to volume"
   ]
  },
  {
   "cell_type": "markdown",
   "id": "e331cce2-6fd5-48c7-a85b-f12c64ed771e",
   "metadata": {},
   "source": [
    "# 2. Bring Marketwatch GME Data\n",
    "https://www.marketwatch.com/investing/stock/gme/download-data?startDate=11/1/2019&endDate=03/12/2021"
   ]
  },
  {
   "cell_type": "code",
   "execution_count": 2,
   "id": "24ced4a1-b790-49e8-8ab1-7c9db25bcf9d",
   "metadata": {},
   "outputs": [
    {
     "data": {
      "text/html": [
       "<div>\n",
       "<style scoped>\n",
       "    .dataframe tbody tr th:only-of-type {\n",
       "        vertical-align: middle;\n",
       "    }\n",
       "\n",
       "    .dataframe tbody tr th {\n",
       "        vertical-align: top;\n",
       "    }\n",
       "\n",
       "    .dataframe thead th {\n",
       "        text-align: right;\n",
       "    }\n",
       "</style>\n",
       "<table border=\"1\" class=\"dataframe\">\n",
       "  <thead>\n",
       "    <tr style=\"text-align: right;\">\n",
       "      <th></th>\n",
       "      <th>Open</th>\n",
       "      <th>High</th>\n",
       "      <th>Low</th>\n",
       "      <th>Close</th>\n",
       "      <th>Volume</th>\n",
       "    </tr>\n",
       "    <tr>\n",
       "      <th>Date</th>\n",
       "      <th></th>\n",
       "      <th></th>\n",
       "      <th></th>\n",
       "      <th></th>\n",
       "      <th></th>\n",
       "    </tr>\n",
       "  </thead>\n",
       "  <tbody>\n",
       "    <tr>\n",
       "      <th>2021-12-29</th>\n",
       "      <td>36.96</td>\n",
       "      <td>38.87</td>\n",
       "      <td>35.54</td>\n",
       "      <td>38.48</td>\n",
       "      <td>8,149,624</td>\n",
       "    </tr>\n",
       "    <tr>\n",
       "      <th>2021-12-30</th>\n",
       "      <td>37.75</td>\n",
       "      <td>40.00</td>\n",
       "      <td>37.50</td>\n",
       "      <td>38.83</td>\n",
       "      <td>6,247,528</td>\n",
       "    </tr>\n",
       "    <tr>\n",
       "      <th>2021-12-31</th>\n",
       "      <td>38.41</td>\n",
       "      <td>39.18</td>\n",
       "      <td>37.03</td>\n",
       "      <td>37.10</td>\n",
       "      <td>5,575,856</td>\n",
       "    </tr>\n",
       "    <tr>\n",
       "      <th>2022-01-03</th>\n",
       "      <td>37.31</td>\n",
       "      <td>39.85</td>\n",
       "      <td>37.30</td>\n",
       "      <td>38.21</td>\n",
       "      <td>5,668,004</td>\n",
       "    </tr>\n",
       "    <tr>\n",
       "      <th>2022-01-04</th>\n",
       "      <td>38.04</td>\n",
       "      <td>38.25</td>\n",
       "      <td>35.76</td>\n",
       "      <td>37.23</td>\n",
       "      <td>7,339,576</td>\n",
       "    </tr>\n",
       "  </tbody>\n",
       "</table>\n",
       "</div>"
      ],
      "text/plain": [
       "             Open   High    Low  Close     Volume\n",
       "Date                                             \n",
       "2021-12-29  36.96  38.87  35.54  38.48  8,149,624\n",
       "2021-12-30  37.75  40.00  37.50  38.83  6,247,528\n",
       "2021-12-31  38.41  39.18  37.03  37.10  5,575,856\n",
       "2022-01-03  37.31  39.85  37.30  38.21  5,668,004\n",
       "2022-01-04  38.04  38.25  35.76  37.23  7,339,576"
      ]
     },
     "metadata": {},
     "output_type": "display_data"
    }
   ],
   "source": [
    "# load up dataset for anytrading environment\n",
    "df = pd.read_csv('data/gmedata.csv')\n",
    "# change date column to datetime\n",
    "df['Date'] = pd.to_datetime(df['Date'])\n",
    "# sort dates so that the oldest date comes first\n",
    "df.sort_values('Date', ascending=True, inplace=True)\n",
    "df.set_index('Date',inplace=True)\n",
    "display(df.head())"
   ]
  },
  {
   "cell_type": "code",
   "execution_count": 3,
   "id": "b3302753-7b2f-42b8-810c-ce3252463994",
   "metadata": {},
   "outputs": [],
   "source": [
    "# setup stocks envirionment\n",
    "# df is the df passed in\n",
    "# use first 100 time stamps starting from 10\\\n",
    "# window_size = how many previous timestamps the bot will have before making next prediction\n",
    "# here you use 95 days of data\n",
    "window_size = 5\n",
    "env = gym.make('stocks-v0',df=df,frame_bound=(window_size,100), window_size=window_size)"
   ]
  },
  {
   "cell_type": "markdown",
   "id": "2e637d9c-768e-4e86-918c-a67ebede8658",
   "metadata": {},
   "source": [
    "# 3. Build Environment"
   ]
  },
  {
   "cell_type": "code",
   "execution_count": 4,
   "id": "9b3c4bab-6ea7-4fec-bdde-ae36df3e0762",
   "metadata": {},
   "outputs": [
    {
     "data": {
      "text/plain": [
       "Discrete(2)"
      ]
     },
     "execution_count": 4,
     "metadata": {},
     "output_type": "execute_result"
    }
   ],
   "source": [
    "# there are 2 actions, buy or sell\n",
    "env.action_space"
   ]
  },
  {
   "cell_type": "code",
   "execution_count": 5,
   "id": "7415bd3a-65f2-4edd-beb5-d2d05514479e",
   "metadata": {},
   "outputs": [
    {
     "name": "stdout",
     "output_type": "stream",
     "text": [
      "info {'total_reward': 0.6600000000000001, 'total_profit': 0.5983462411632715, 'position': 0}\n"
     ]
    },
    {
     "data": {
      "image/png": "[encoded data removed]",
      "text/plain": [
       "<Figure size 1500x600 with 1 Axes>"
      ]
     },
     "metadata": {},
     "output_type": "display_data"
    }
   ],
   "source": [
    "# create test env\n",
    "state = env.reset()\n",
    "while True:\n",
    "    # take a random action from the action space\n",
    "    # store action in action variable\n",
    "    action = env.action_space.sample()\n",
    "    # n_state = what env looks like\n",
    "    # reward = any money made\n",
    "    n_state, reward, done, info = env.step(action)\n",
    "    if done:\n",
    "        print('info',info)\n",
    "        break\n",
    "plt.figure(figsize=(15,6))\n",
    "plt.cla()\n",
    "env.render_all()\n",
    "plt.show()"
   ]
  },
  {
   "cell_type": "markdown",
   "id": "761599bf-a681-4ece-87f2-36acd09c0c22",
   "metadata": {},
   "source": [
    "# 2.1 Add Custom Indicators"
   ]
  },
  {
   "cell_type": "markdown",
   "id": "9f6f2eb1-19ce-4357-9562-b1689cb38db5",
   "metadata": {},
   "source": [
    "## 2.1.1 Import New Dependencies"
   ]
  },
  {
   "cell_type": "code",
   "execution_count": 6,
   "id": "92cb6b0b-c675-491b-aaf3-20c012cb8165",
   "metadata": {},
   "outputs": [],
   "source": [
    "# custom overlay that allows you to add new indicators\n",
    "from gym_anytrading.envs import StocksEnv\n",
    "# technical analysis library\n",
    "from finta import TA"
   ]
  },
  {
   "cell_type": "markdown",
   "id": "0d757840-1433-45d1-934f-87002a314022",
   "metadata": {},
   "source": [
    "## 2.1.2 Fix Volume Column"
   ]
  },
  {
   "cell_type": "code",
   "execution_count": 10,
   "id": "ba64151a-c55d-479d-9a88-88da91d323f9",
   "metadata": {},
   "outputs": [],
   "source": [
    "df['Volume'] = df['Volume'].apply(lambda x: float(x.replace(',','')))"
   ]
  },
  {
   "cell_type": "markdown",
   "id": "2fece6e6-71c3-49ea-9528-405b1a756a26",
   "metadata": {},
   "source": [
    "## 2.1.3 Calculate SMA, RSI, OBV"
   ]
  },
  {
   "cell_type": "code",
   "execution_count": 5,
   "id": "59111ff8-adf2-45aa-9641-483ab845d6c3",
   "metadata": {},
   "outputs": [],
   "source": [
    "df['SMA'] = TA.SMA(df,12)\n",
    "df['RSI'] = TA.RSI(df)\n",
    "df['OBV'] = TA.OBV(df)\n",
    "# lagging values are needed to be able to calculate the above metrics so these will be null\n",
    "df.fillna(0, inplace=True)"
   ]
  },
  {
   "cell_type": "markdown",
   "id": "c1517e3b-2346-4a64-80c1-76cb39236ac7",
   "metadata": {},
   "source": [
    "## 2.1.4 Create New Environments"
   ]
  },
  {
   "cell_type": "code",
   "execution_count": 5,
   "id": "8ae5ace6-d0d6-438d-8896-723148d00277",
   "metadata": {},
   "outputs": [],
   "source": [
    "def add_signals(env):\n",
    "    # grabs start & end indices\n",
    "    # env = gym.make( ... frame_bound=(5,100) ... )\n",
    "    start = env.frame_bound[0] - env.window_size\n",
    "    end = env.frame_bound[1]\n",
    "    prices = env.df.loc[:,'Low'].to_numpy()[start:end]\n",
    "    signal_features = env.df.loc[:, ['Low','Volume','SMA','RSA','OBV']].to_numpy()[start:end]\n",
    "    return prices, signal_features"
   ]
  },
  {
   "cell_type": "code",
   "execution_count": 5,
   "id": "16ca1806-2c55-4df2-9d32-b4b7c63f61a3",
   "metadata": {},
   "outputs": [],
   "source": [
    "# inheritance from StocksEnv\n",
    "class MyCustomEnv(StocksEnv):\n",
    "    # native function w/i StocksEnv\n",
    "    # native function only gives back price and price difference\n",
    "    _process_data = signal_features\n",
    "env2 = MyCustomEnv(df=df, window_size = 12, frame_bound = 12,50)"
   ]
  },
  {
   "cell_type": "markdown",
   "id": "8b65257d-0862-4476-9b1b-8ffeceab7ee5",
   "metadata": {},
   "source": [
    "# 4. Build Environment & Trade"
   ]
  },
  {
   "cell_type": "code",
   "execution_count": 6,
   "id": "ba01b2ab-2fa8-40c6-8c3d-bfbe6457169f",
   "metadata": {},
   "outputs": [],
   "source": [
    "# there is a generic env but there are also forex ones\n",
    "env_maker = lambda: env2\n",
    "env = DummyVecEnv([env_maker])\n",
    "# env = gym.make('stocks-v0',df=df,frame_bound=(window_size,100), window_size=window_size)"
   ]
  },
  {
   "cell_type": "code",
   "execution_count": 13,
   "id": "854a20b7-f198-485b-9f47-b1ef71663892",
   "metadata": {},
   "outputs": [
    {
     "data": {
      "text/plain": [
       "<stable_baselines3.a2c.a2c.A2C at 0x120370880>"
      ]
     },
     "execution_count": 13,
     "metadata": {},
     "output_type": "execute_result"
    }
   ],
   "source": [
    "# A2C is the algorithm\n",
    "# custom algorithms can be used\n",
    "# multi layer perceptron lstm policy\n",
    "    # deep neural network w/ lstm layer\n",
    "    # lstm layer allows the ai to take into account what it has learned in the previous windows\n",
    "model = A2C(MlpPolicy,env)\n",
    "# explained variance should be as high as possible\n",
    "# callback can be configured w/i learn model to stop learning once a ceratin level of variance is reached\n",
    "model.learn(total_timesteps=100000)"
   ]
  },
  {
   "cell_type": "markdown",
   "id": "7e57f7ac-1f50-4512-b178-74b30d40ea95",
   "metadata": {},
   "source": [
    "# 5. Evaluation"
   ]
  },
  {
   "cell_type": "code",
   "execution_count": null,
   "id": "2c852822-dac2-434d-b2a1-34c094aab277",
   "metadata": {},
   "outputs": [],
   "source": [
    "env = MyCustomEnv(df=df, window_size = 12, frame_bound = 12,50)\n",
    "obs = env.reset()\n",
    "while True: \n",
    "    # reshape observations to work w/i non-vectorized env\n",
    "    obs = obs[np.newaxis, ...]\n",
    "    action, _states = model.predict(obs)\n",
    "    obs, rewards, done, info = env.step(action)\n",
    "    if done:\n",
    "        print(\"info\", info)\n",
    "        break"
   ]
  },
  {
   "cell_type": "code",
   "execution_count": null,
   "id": "049500a5-e654-4d0b-bd81-7e118646f0c4",
   "metadata": {},
   "outputs": [],
   "source": [
    "plt.figure(figsize=(15,6))\n",
    "plt.cla()\n",
    "env.render_all()\n",
    "plt.show()"
   ]
  },
  {
   "cell_type": "code",
   "execution_count": null,
   "id": "62107601-281e-4612-8fbe-d192f8d021cf",
   "metadata": {},
   "outputs": [],
   "source": [
    "help(model.learn)"
   ]
  }
 ],
 "metadata": {
  "kernelspec": {
   "display_name": "Python 3.9 (tensorflow)",
   "language": "python",
   "name": "tensorflow"
  },
  "language_info": {
   "codemirror_mode": {
    "name": "ipython",
    "version": 3
   },
   "file_extension": ".py",
   "mimetype": "text/x-python",
   "name": "python",
   "nbconvert_exporter": "python",
   "pygments_lexer": "ipython3",
   "version": "3.9.15"
  },
  "vscode": {
   "interpreter": {
    "hash": "31f2aee4e71d21fbe5cf8b01ff0e069b9275f58929596ceb00d14d90e3e16cd6"
   }
  }
 },
 "nbformat": 4,
 "nbformat_minor": 5
}
