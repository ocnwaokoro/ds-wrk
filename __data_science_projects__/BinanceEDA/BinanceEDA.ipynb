{
 "cells": [
  {
   "cell_type": "code",
   "execution_count": null,
   "id": "c08873dd-6e08-4b83-91ff-a8d401678772",
   "metadata": {},
   "outputs": [],
   "source": [
    "import config\n",
    "# config.BINANCE_API_KEY\n",
    "# config.SECRET_BINANCE_API_KEY\n",
    "# note: change the api to only allow access from trusted apis\n",
    "# ip 4.71.145.140"
   ]
  },
  {
   "cell_type": "markdown",
   "id": "1e83c949-e00e-4705-a639-27ee3a9b1c36",
   "metadata": {},
   "source": [
    "# 1. Setup"
   ]
  },
  {
   "cell_type": "code",
   "execution_count": null,
   "id": "44ef3a35-b8f6-4c83-a865-68481ae75ac3",
   "metadata": {},
   "outputs": [],
   "source": [
    "from binance import Client, ThreadedWebsocketManager, ThreadedDepthCacheManager\n",
    "import pandas as pd\n",
    "symbol = 'BTCUSDT'"
   ]
  },
  {
   "cell_type": "markdown",
   "id": "d33ac816-d040-47fd-acdb-b96e9f95ea6c",
   "metadata": {},
   "source": [
    "# 2. Authenticate"
   ]
  },
  {
   "cell_type": "code",
   "execution_count": null,
   "id": "67cc17bb-a427-4922-ac99-76a4078af700",
   "metadata": {},
   "outputs": [],
   "source": [
    "client = Client(config.BINANCE_API_KEY, config.SECRET_BINANCE_API_KEY,{\"verify\": False, \"timeout\": 20})"
   ]
  },
  {
   "cell_type": "markdown",
   "id": "f2c158df-d271-4e0d-af21-5236571663c1",
   "metadata": {},
   "source": [
    "# 3. Get Tickers"
   ]
  },
  {
   "cell_type": "code",
   "execution_count": null,
   "id": "2368256b-ed3e-4345-82db-c7035fd92822",
   "metadata": {},
   "outputs": [],
   "source": [
    "tickers = client.get_all_tickers()\n",
    "ticker_df = pd.DataFrame(tickers)\n",
    "ticker_df.set_index('symbol',inplace=True)\n",
    "display(tickers_df.head())"
   ]
  },
  {
   "cell_type": "markdown",
   "id": "913fc4c5-2546-42a7-a2d6-ef71d0ab9e2e",
   "metadata": {},
   "source": [
    "# 4. Get Depth"
   ]
  },
  {
   "cell_type": "code",
   "execution_count": null,
   "id": "a2bba567-1c2a-4bac-9447-22477e9869b6",
   "metadata": {},
   "outputs": [],
   "source": [
    "# allows you to retrieve market depth data from binance\n",
    "# ticker code can be passed thru to give max num of tickers\n",
    "# depth holds diff bids and diff price points to help analyze spread\n",
    "# shows bids and asks\n",
    "depth = client.get_order_book(symbol = symbol)\n",
    "depth_df = pd.DataFrame(depth['bids'])\n",
    "depth_df.columns = ['Price', 'Volume']\n",
    "display(depth_df.head())"
   ]
  },
  {
   "cell_type": "markdown",
   "id": "c5dfa05d-6ee4-4c85-97d8-c652b517a115",
   "metadata": {},
   "source": [
    "# 5. Get Historical Data"
   ]
  },
  {
   "cell_type": "raw",
   "id": "f2651206-dce7-4762-9530-a4b9be4070d5",
   "metadata": {},
   "source": [
    "#  [\n",
    "#   [\n",
    "#     1499040000000,      // Open time\n",
    "#     \"0.01634790\",       // Open\n",
    "#     \"0.80000000\",       // High\n",
    "#     \"0.01575800\",       // Low\n",
    "#     \"0.01577100\",       // Close\n",
    "#     \"148976.11427815\",  // Volume\n",
    "#     1499644799999,      // Close time\n",
    "#     \"2434.19055334\",    // Quote asset volume\n",
    "#     308,                // Number of trades\n",
    "#     \"1756.87402397\",    // Taker buy base asset volume\n",
    "#     \"28.46694368\",      // Taker buy quote asset volume\n",
    "#     \"17928899.62484339\" // Ignore.\n",
    "#   ]\n",
    "# ]"
   ]
  },
  {
   "cell_type": "code",
   "execution_count": null,
   "id": "10dcb503-4ce1-403f-ad13-c8d4977ba2aa",
   "metadata": {},
   "outputs": [],
   "source": [
    "client.get_historical_klines??"
   ]
  },
  {
   "cell_type": "code",
   "execution_count": null,
   "id": "a7530876-d068-4573-9dba-e7d29d171716",
   "metadata": {},
   "outputs": [],
   "source": [
    "# get_historical_klines allows you to retrieve spot and futures OHLCV data from binance\n",
    "# kline interval can be adjusted to much smaller intervals if needed\n",
    "historical = client.get_historical_klines(symbol, client.KLINE_INTERTVAL_1DAY, '1 Jan 2011')\n",
    "hist_df = pd.DataFrame(historical)\n",
    "hist_df.columns = ['Open Time', 'Open', 'High', 'Low', 'Close', 'Volume', 'Close Time', 'Quote Asset Volume', \n",
    "                    'Number of Trades', 'TB Base Volume', 'TB Quote Volume', 'Ignore']\n",
    "display(hist_df.tail())"
   ]
  },
  {
   "cell_type": "code",
   "execution_count": null,
   "id": "9f0e6392-5a67-4bbc-bbb9-3ca553c673c5",
   "metadata": {},
   "outputs": [],
   "source": [
    "# columns are all stored as objects / strings currently\n",
    "hist_df.dtypes"
   ]
  },
  {
   "cell_type": "markdown",
   "id": "ca30c670-8872-40f5-b82b-2b9fa7096b0e",
   "metadata": {},
   "source": [
    "# 6. Preprocess Historical Data"
   ]
  },
  {
   "cell_type": "code",
   "execution_count": null,
   "id": "2b6357e1-2941-4c31-b86a-36b62b9005ba",
   "metadata": {},
   "outputs": [],
   "source": [
    "# hist_df['Open Time'] is record in some epoch unix s time unit (look this up)\n",
    "hist_df['Open Time'] = pd.to_datetime(hist_df['Open Time']/1000,unit='s')\n",
    "hist_df['Close Time'] = pd.to_datetime(hist_df['Close Time']/1000,unit='s')"
   ]
  },
  {
   "cell_type": "code",
   "execution_count": null,
   "id": "513358d1-823d-4e54-a389-421d259ae85f",
   "metadata": {},
   "outputs": [],
   "source": [
    "numeric_columns = ['Open', 'High', 'Low', 'Close', 'Volume', 'Quote Asset Volume', 'TB Base Volume', 'TB Quote Volume', 'Ignore']"
   ]
  },
  {
   "cell_type": "code",
   "execution_count": null,
   "id": "8dbc139e-a6e1-4def-bb03-6f64400caab1",
   "metadata": {},
   "outputs": [],
   "source": [
    "hist_df[numeric_columns] = hist_df[numeric_columns].apply(pd.to_numeric,axis=1)"
   ]
  },
  {
   "cell_type": "code",
   "execution_count": null,
   "id": "2a945fba-a2dc-4c3c-a5c7-177b161d5503",
   "metadata": {},
   "outputs": [],
   "source": [
    "# columns are in appropriate dtype now\n",
    "hist_df.dtypes"
   ]
  },
  {
   "cell_type": "markdown",
   "id": "7181b0fa-68fa-449d-8691-484559a172e0",
   "metadata": {},
   "source": [
    "# 7. Visualize"
   ]
  },
  {
   "cell_type": "code",
   "execution_count": null,
   "id": "fc1e20ae-9b2c-4667-a48a-99f7f2067f52",
   "metadata": {},
   "outputs": [],
   "source": [
    "import mplfinance as mpf\n",
    "days = 100"
   ]
  },
  {
   "cell_type": "code",
   "execution_count": null,
   "id": "296feea7-a834-4a9c-96be-b14bd043153c",
   "metadata": {},
   "outputs": [],
   "source": [
    "# tail is important to be set here b/c otherwise you cannnot see the details\n",
    "mpf.plot(hist_df.set_index('Close Time').tail(days))"
   ]
  },
  {
   "cell_type": "code",
   "execution_count": null,
   "id": "2fb710c5-52a2-4f1b-9589-233488968e04",
   "metadata": {},
   "outputs": [],
   "source": [
    "mpf.plot(hist_df.set_index('Close Time').tail(days),\n",
    "         type='candle',\n",
    "         style='charles',\n",
    "        volume = True,\n",
    "        title = f\"{symbol}last {days} days\",\n",
    "        mav = (10,20,30))"
   ]
  },
  {
   "cell_type": "markdown",
   "id": "a58b1320-5184-4c2f-8e09-28e6be55f567",
   "metadata": {},
   "source": [
    "buys when there is golden cross' (50 day moving average crosses above 200 day moving average) and sells when there is a 'death cross' (50 day moving average crosses below 200 day moving average)."
   ]
  }
 ],
 "metadata": {
  "kernelspec": {
   "display_name": "Python 3 (ipykernel)",
   "language": "python",
   "name": "python3"
  },
  "language_info": {
   "codemirror_mode": {
    "name": "ipython",
    "version": 3
   },
   "file_extension": ".py",
   "mimetype": "text/x-python",
   "name": "python",
   "nbconvert_exporter": "python",
   "pygments_lexer": "ipython3",
   "version": "3.9.12"
  }
 },
 "nbformat": 4,
 "nbformat_minor": 5
}
