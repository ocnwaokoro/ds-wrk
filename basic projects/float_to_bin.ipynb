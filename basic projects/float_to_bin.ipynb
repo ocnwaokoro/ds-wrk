{
 "cells": [
  {
   "cell_type": "code",
   "execution_count": 1,
   "id": "e18f3433-4199-4bd9-ae02-609f7192c7d2",
   "metadata": {},
   "outputs": [
    {
     "name": "stdout",
     "output_type": "stream",
     "text": [
      "0.025 * 2 = 0.05\n",
      "0.05 * 2 = 0.1\n",
      "0.1 * 2 = 0.2\n",
      "0.2 * 2 = 0.4\n",
      "0.4 * 2 = 0.8\n",
      "0.8 * 2 = 1.6\n",
      "0.6 * 2 = 1.2\n",
      "0.2 * 2 = 0.4\n",
      "0.4 * 2 = 0.8\n",
      "0.8 * 2 = 1.6\n",
      "0.6 * 2 = 1.2\n",
      "0.2 * 2 = 0.4\n",
      "0.4 * 2 = 0.8\n",
      "0.8 * 2 = 1.6\n",
      "0.6 * 2 = 1.2\n",
      "0.2 * 2 = 0.4\n",
      "0.4 * 2 = 0.8\n",
      "0.8 * 2 = 1.6\n",
      "0.6 * 2 = 1.2\n",
      "0.2 * 2 = 0.4\n",
      "0.4 * 2 = 0.8\n",
      "0.8 * 2 = 1.6\n",
      "0.6 * 2 = 1.2\n",
      "0.2 * 2 = 0.4\n",
      "0.4 * 2 = 0.8\n",
      "0.8 * 2 = 1.6\n",
      "0.6 * 2 = 1.2\n",
      "0.2 * 2 = 0.4\n",
      "0.4 * 2 = 0.8\n",
      "1.10011001100110011001100 * 2^-6\n"
     ]
    }
   ],
   "source": [
    "x = 0.025\n",
    "count = 0\n",
    "y = 0\n",
    "while int(y)!=1:\n",
    "    y = x*2\n",
    "    print(f\"{f'{x} * 2 = {y}'}\") \n",
    "    x = y\n",
    "    count += 1\n",
    "y = round(y-1,4)\n",
    "x = y\n",
    "val = \"1.\"\n",
    "for i in range(23):\n",
    "    y = x*2\n",
    "    print(f\"{f'{x} * 2 = {y}'}\")\n",
    "    val += str(int(y))\n",
    "    if(y>1):\n",
    "       y = round(y-1,4)\n",
    "    x = y\n",
    "print(val,\"* 2^-{}\".format(count))"
   ]
  },
  {
   "cell_type": "code",
   "execution_count": 2,
   "id": "cef0d6c7-47b0-4bba-aacf-fe2ae5ef974d",
   "metadata": {},
   "outputs": [],
   "source": [
    "def do_maths(num):\n",
    "    x = round(num - int(num), len(str(num))-1)\n",
    "    count = 0\n",
    "    y = 0\n",
    "    while int(y)!=1:\n",
    "        y = x*2\n",
    "        # print(f'{x} * 2 = {y}') \n",
    "        x = y\n",
    "        count += 1\n",
    "    y = round(y-1,4)\n",
    "    x = y\n",
    "    val = \"1.\"\n",
    "    mantissa = \"\"\n",
    "    for i in range(23):\n",
    "        y = x*2\n",
    "        # print(f'{x} * 2 = {y}')\n",
    "        val += str(int(y))\n",
    "        mantissa += str(int(y))\n",
    "        if(y>1):\n",
    "           y = round(y-1,4)\n",
    "        x = y\n",
    "    # print(val,\"* 2^-{}\".format(count))\n",
    "    return count, mantissa\n",
    "def do_maths_corr(num):\n",
    "    count = 0\n",
    "    if abs(num) < 1:\n",
    "        x = round(num - int(num), len(str(num))-len(str(int(num))))\n",
    "        y = 0\n",
    "        while int(y)!=1:\n",
    "            y = x*2\n",
    "            # print(f'{x} * 2 = {y}') \n",
    "            x = y\n",
    "            count -= 1\n",
    "        y = round(y-1,4)\n",
    "        x = y\n",
    "        val = \"1.\"\n",
    "        mantissa = \"\"\n",
    "        for i in range(23):\n",
    "            y = x*2\n",
    "            # print(f'{x} * 2 = {y}')\n",
    "            val += str(int(y))\n",
    "            mantissa += str(int(y))\n",
    "            if(y>1):\n",
    "               y = round(y-1,4)\n",
    "            x = y\n",
    "        return count, mantissa\n",
    "    else:\n",
    "        num_in_binary = dec_to_bin_no_pad(int(num))\n",
    "        count = len(num_in_binary) - 1\n",
    "        x = round(num - int(num), len(str(num))-len(str(int(num))))\n",
    "        y = 0\n",
    "        mantissa = num_in_binary[1:]\n",
    "        for i in range(23-count):\n",
    "            y = x*2\n",
    "            mantissa += str(int(y))\n",
    "            if(y>=1):\n",
    "               y = round(y-1,4)\n",
    "            x = y\n",
    "        return count, mantissa"
   ]
  },
  {
   "cell_type": "code",
   "execution_count": 3,
   "id": "579ba632-dc05-4006-b1ab-b63b86ff56c2",
   "metadata": {},
   "outputs": [],
   "source": [
    "def dec_to_bin(x):\n",
    "    ret = \"\"\n",
    "    urn = \"\"\n",
    "    while x!=0:\n",
    "        urn = str(int(x%2))\n",
    "        ret = urn + ret\n",
    "        x = int(x/2)\n",
    "    return f\"{ret:>08}\"\n",
    "def dec_to_bin_no_pad(x):\n",
    "    ret = \"\"\n",
    "    urn = \"\"\n",
    "    while x!=0:\n",
    "        urn = str(int(x%2))\n",
    "        ret = urn + ret\n",
    "        x = int(x/2)\n",
    "    return ret"
   ]
  },
  {
   "cell_type": "code",
   "execution_count": 5,
   "id": "177ad047-b15d-45e6-9c02-c28367221031",
   "metadata": {},
   "outputs": [],
   "source": [
    "def float_to_bin(num):\n",
    "    x = float(abs(num))\n",
    "    count, mantissa =  do_maths_corr(x)\n",
    "    bias = dec_to_bin(127 + count)\n",
    "    sign = \"0\" if num > 0 else \"1\"\n",
    "    print(sign,bias,mantissa)\n",
    "    print(sign+bias+mantissa)"
   ]
  },
  {
   "cell_type": "code",
   "execution_count": 12,
   "id": "a17fc05c-02e9-4375-83c5-5d7bfa47eab6",
   "metadata": {},
   "outputs": [
    {
     "name": "stdout",
     "output_type": "stream",
     "text": [
      "0 01110011 00000110001001001101110\n",
      "00111001100000110001001001101110\n"
     ]
    }
   ],
   "source": [
    "float_to_bin(0.00025)"
   ]
  },
  {
   "cell_type": "code",
   "execution_count": 11,
   "id": "6e5dadde-48c5-4864-88e5-a8bc849ef603",
   "metadata": {},
   "outputs": [
    {
     "name": "stdout",
     "output_type": "stream",
     "text": [
      "11111111100000000000000000000000\n"
     ]
    }
   ],
   "source": [
    "print('1'+'1'*8+'0'*23)"
   ]
  },
  {
   "cell_type": "code",
   "execution_count": null,
   "id": "fee7cd23-9f6c-406d-b941-d1cb921217c5",
   "metadata": {},
   "outputs": [],
   "source": []
  }
 ],
 "metadata": {
  "kernelspec": {
   "display_name": "Python 3 (ipykernel)",
   "language": "python",
   "name": "python3"
  },
  "language_info": {
   "codemirror_mode": {
    "name": "ipython",
    "version": 3
   },
   "file_extension": ".py",
   "mimetype": "text/x-python",
   "name": "python",
   "nbconvert_exporter": "python",
   "pygments_lexer": "ipython3",
   "version": "3.9.12"
  }
 },
 "nbformat": 4,
 "nbformat_minor": 5
}
