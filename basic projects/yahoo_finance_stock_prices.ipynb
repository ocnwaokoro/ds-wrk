{
 "cells": [
  {
   "cell_type": "code",
   "execution_count": 13,
   "id": "1a53422f-ebd2-498c-a71d-414c26944765",
   "metadata": {},
   "outputs": [
    {
     "name": "stdout",
     "output_type": "stream",
     "text": [
      "                   Open         High          Low        Close    Adj Close  \\\n",
      "Date                                                                          \n",
      "2022-10-17  3638.649902  3689.729980  3638.649902  3677.949951  3677.949951   \n",
      "2022-10-18  3746.260010  3762.790039  3686.530029  3719.979980  3719.979980   \n",
      "2022-10-19  3703.110107  3728.580078  3666.510010  3695.159912  3695.159912   \n",
      "2022-10-20  3689.050049  3736.000000  3656.439941  3665.780029  3665.780029   \n",
      "2022-10-21  3657.100098  3757.889893  3647.419922  3752.750000  3752.750000   \n",
      "\n",
      "                Volume  \n",
      "Date                    \n",
      "2022-10-17  4352780000  \n",
      "2022-10-18  4483740000  \n",
      "2022-10-19  4223800000  \n",
      "2022-10-20  4496620000  \n",
      "2022-10-21  5078020000  \n"
     ]
    }
   ],
   "source": [
    "import pandas as pd\n",
    "import yfinance as yf\n",
    "import datetime\n",
    "from datetime import date, timedelta\n",
    "today = date.today()\n",
    "\n",
    "d1 = today.strftime(\"%Y-%m-%d\")\n",
    "end_date = d1\n",
    "d2 = date.today() - timedelta(days=365)\n",
    "d2 = d2.strftime(\"%Y-%m-%d\")\n",
    "start_date = d2\n",
    "\n",
    "data = yf.download('^GSPC', \n",
    "                      start=start_date, \n",
    "                      end=end_date, \n",
    "                      progress=False)\n",
    "print(data.tail())"
   ]
  },
  {
   "cell_type": "code",
   "execution_count": null,
   "id": "22c8b7fe-a03e-4541-b369-f040d89f6a3d",
   "metadata": {},
   "outputs": [],
   "source": []
  }
 ],
 "metadata": {
  "kernelspec": {
   "display_name": "Python 3 (ipykernel)",
   "language": "python",
   "name": "python3"
  },
  "language_info": {
   "codemirror_mode": {
    "name": "ipython",
    "version": 3
   },
   "file_extension": ".py",
   "mimetype": "text/x-python",
   "name": "python",
   "nbconvert_exporter": "python",
   "pygments_lexer": "ipython3",
   "version": "3.9.12"
  }
 },
 "nbformat": 4,
 "nbformat_minor": 5
}
