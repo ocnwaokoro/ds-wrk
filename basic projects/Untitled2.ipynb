{
 "cells": [
  {
   "cell_type": "code",
   "execution_count": 2,
   "id": "8729a647-550d-4f3e-98dd-69169d098e8f",
   "metadata": {},
   "outputs": [
    {
     "name": "stdout",
     "output_type": "stream",
     "text": [
      "<class 'pandas.core.frame.DataFrame'>\n",
      "Index: 0 entries\n",
      "Data columns (total 5 columns):\n",
      " #   Column     Non-Null Count  Dtype \n",
      "---  ------     --------------  ----- \n",
      " 0   name       0 non-null      object\n",
      " 1   net_worth  0 non-null      int64 \n",
      " 2   age        0 non-null      object\n",
      " 3   source     0 non-null      object\n",
      " 4   country    0 non-null      object\n",
      "dtypes: int64(1), object(4)\n",
      "memory usage: 0.0+ bytes\n",
      "None\n"
     ]
    },
    {
     "name": "stderr",
     "output_type": "stream",
     "text": [
      "/Users/ocnwaokoro/opt/anaconda3/lib/python3.9/site-packages/bs4/__init__.py:404: MarkupResemblesLocatorWarning: The input looks more like a URL than markup. You may want to use an HTTP client like requests to get the document behind the URL, and feed that document to Beautiful Soup.\n",
      "  warnings.warn(\n",
      "/var/folders/tc/5j2qyb8s4t76fc3t5ycfwvl40000gn/T/ipykernel_94471/1914431149.py:15: FutureWarning: The default value of regex will change from True to False in a future version. In addition, single character regular expressions will *not* be treated as literal strings when regex=True.\n",
      "  df['net_worth'] = pd.to_numeric(df['net_worth'].str.replace('$', '').str.replace('B', '').str.strip(), errors='coerce')\n"
     ]
    }
   ],
   "source": [
    "from bs4 import BeautifulSoup\n",
    "import requests\n",
    "import csv\n",
    "import pandas as pd\n",
    "url = 'https://www.forbes.com/real-time-billionaires/#230578cb3d78'\n",
    "res = requests.get(url)\n",
    "\n",
    "dom = BeautifulSoup(url);\n",
    "rows = dom.select('.fbs-table table tr')\n",
    "parse = lambda row: [td.get_text().strip() for i, td in enumerate(row.select('td')) if i > 1]\n",
    "data = (parse(row) for row in rows if len(row.select('td')) > 1)\n",
    "\n",
    "df = pd.DataFrame(data, columns=['name', 'net_worth', 'change', 'age', 'source', 'country'])\n",
    "df.drop('change', axis=1, inplace=True)\n",
    "df['net_worth'] = pd.to_numeric(df['net_worth'].str.replace('$', '').str.replace('B', '').str.strip(), errors='coerce')\n",
    "# df['age'] = pd.to_numeric(df['age'])\n",
    "# df['age'] = df['age'].fillna('null')\n",
    "#df.index.rename('id')\n",
    "print(df.info())\n",
    "#print(df[df['age'].isnull()])\n",
    "\n",
    "df.to_csv('billionaires.csv', index=False)"
   ]
  },
  {
   "cell_type": "code",
   "execution_count": null,
   "id": "efd510ec-43f3-4b20-b095-2ffffb73f5f1",
   "metadata": {},
   "outputs": [],
   "source": []
  }
 ],
 "metadata": {
  "kernelspec": {
   "display_name": "Python 3 (ipykernel)",
   "language": "python",
   "name": "python3"
  },
  "language_info": {
   "codemirror_mode": {
    "name": "ipython",
    "version": 3
   },
   "file_extension": ".py",
   "mimetype": "text/x-python",
   "name": "python",
   "nbconvert_exporter": "python",
   "pygments_lexer": "ipython3",
   "version": "3.9.12"
  }
 },
 "nbformat": 4,
 "nbformat_minor": 5
}
