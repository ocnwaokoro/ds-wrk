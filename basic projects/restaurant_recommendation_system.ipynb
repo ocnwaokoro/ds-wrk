{
 "cells": [
  {
   "cell_type": "markdown",
   "id": "941865be-02ff-4cee-af76-f44193a132b3",
   "metadata": {},
   "source": [
    "##### Data From :  https://www.kaggle.com/datasets/siddharthmandgi/tripadvisor-restaurant-recommendation-data-usa?resource=download"
   ]
  },
  {
   "cell_type": "markdown",
   "id": "b46599a2-c16b-408c-b9b5-a4973a72c84a",
   "metadata": {},
   "source": [
    "### Import necessary Python libraries and the dataset"
   ]
  },
  {
   "cell_type": "code",
   "execution_count": 1,
   "id": "64b3b68f-19ef-4a03-aa6c-aa018f7f0def",
   "metadata": {},
   "outputs": [
    {
     "name": "stdout",
     "output_type": "stream",
     "text": [
      "                            Name       Street Address  \\\n",
      "0  Betty Lou's Seafood and Grill     318 Columbus Ave   \n",
      "1              Coach House Diner        55 State Rt 4   \n",
      "2               Table Talk Diner  2521 South Rd Ste C   \n",
      "3                    Sixty Vines     3701 Dallas Pkwy   \n",
      "4                   The Clam Bar    3914 Brewerton Rd   \n",
      "\n",
      "                       Location                                          Type  \\\n",
      "0  San Francisco, CA 94133-3908   Seafood, Vegetarian Friendly, Vegan Options   \n",
      "1     Hackensack, NJ 07601-6337          Diner, American, Vegetarian Friendly   \n",
      "2   Poughkeepsie, NY 12601-5476          American, Diner, Vegetarian Friendly   \n",
      "3          Plano, TX 75093-7777       American, Wine Bar, Vegetarian Friendly   \n",
      "4            Syracuse, NY 13212                        American, Bar, Seafood   \n",
      "\n",
      "            Reviews No of Reviews  \\\n",
      "0  4.5 of 5 bubbles   243 reviews   \n",
      "1    4 of 5 bubbles    84 reviews   \n",
      "2    4 of 5 bubbles   256 reviews   \n",
      "3  4.5 of 5 bubbles   235 reviews   \n",
      "4    4 of 5 bubbles   285 reviews   \n",
      "\n",
      "                                            Comments   Contact Number  \\\n",
      "0                                                NaN  +1 415-757-0569   \n",
      "1  Both times we were there very late, after 11 P...  +1 201-488-4999   \n",
      "2  Waitress was very friendly but a little pricey...  +1 845-849-2839   \n",
      "3  Not sure why I went there for the second time....  +1 469-620-8463   \n",
      "4  Doesn't look like much from the outside but wa...  +1 315-458-1662   \n",
      "\n",
      "                                    Trip_advisor Url  \\\n",
      "0  https://www.tripadvisor.com//Restaurant_Review...   \n",
      "1  https://www.tripadvisor.com//Restaurant_Review...   \n",
      "2  https://www.tripadvisor.com//Restaurant_Review...   \n",
      "3  https://www.tripadvisor.com//Restaurant_Review...   \n",
      "4  https://www.tripadvisor.com//Restaurant_Review...   \n",
      "\n",
      "                                        Menu Price_Range  \n",
      "0               Check The Website for a Menu    $$ - $$$  \n",
      "1               Check The Website for a Menu    $$ - $$$  \n",
      "2  http://tabletalkdiner.com/menu/breakfast/    $$ - $$$  \n",
      "3      https://sixtyvines.com/menu/plano-tx/    $$ - $$$  \n",
      "4               Check The Website for a Menu    $$ - $$$  \n"
     ]
    }
   ],
   "source": [
    "import numpy as np\n",
    "import pandas as pd\n",
    "from sklearn.feature_extraction import text\n",
    "from sklearn.metrics.pairwise import cosine_similarity\n",
    "\n",
    "data = pd.read_csv(\"TripAdvisor_RestauarantRecommendation.csv\")\n",
    "print(data.head())"
   ]
  },
  {
   "cell_type": "markdown",
   "id": "77382979-1548-4ea9-848d-a42812b3ebe9",
   "metadata": {},
   "source": [
    "### Select two columns from the dataset for the rest of the task (Name, Type)"
   ]
  },
  {
   "cell_type": "code",
   "execution_count": 2,
   "id": "df312358-14da-4bb4-9e65-84af47f37dcd",
   "metadata": {},
   "outputs": [
    {
     "name": "stdout",
     "output_type": "stream",
     "text": [
      "                            Name                                          Type\n",
      "0  Betty Lou's Seafood and Grill   Seafood, Vegetarian Friendly, Vegan Options\n",
      "1              Coach House Diner          Diner, American, Vegetarian Friendly\n",
      "2               Table Talk Diner          American, Diner, Vegetarian Friendly\n",
      "3                    Sixty Vines       American, Wine Bar, Vegetarian Friendly\n",
      "4                   The Clam Bar                        American, Bar, Seafood\n"
     ]
    }
   ],
   "source": [
    "data = data[[\"Name\", \"Type\"]]\n",
    "print(data.head())"
   ]
  },
  {
   "cell_type": "markdown",
   "id": "517d1504-538d-4afb-ba53-25a55c204592",
   "metadata": {},
   "source": [
    "### Check for null values"
   ]
  },
  {
   "cell_type": "code",
   "execution_count": 3,
   "id": "66f4de37-1538-4d34-bfc9-63c0c206d17f",
   "metadata": {},
   "outputs": [
    {
     "name": "stdout",
     "output_type": "stream",
     "text": [
      "Name     0\n",
      "Type    13\n",
      "dtype: int64\n"
     ]
    }
   ],
   "source": [
    "print(data.isnull().sum())"
   ]
  },
  {
   "cell_type": "markdown",
   "id": "674a7650-50eb-4432-8c1d-41d2577f49c5",
   "metadata": {},
   "source": [
    "### Delete rows w/ null values"
   ]
  },
  {
   "cell_type": "code",
   "execution_count": 4,
   "id": "9582c0c6-567f-4bec-a21e-bc0f3898ed68",
   "metadata": {},
   "outputs": [],
   "source": [
    "data = data.dropna()"
   ]
  },
  {
   "cell_type": "markdown",
   "id": "daa2f95a-9faf-4e02-8c5b-c68635f5d7b4",
   "metadata": {},
   "source": [
    "### Use the Type column as the feature to recommend similar restaurants to the customer"
   ]
  },
  {
   "cell_type": "code",
   "execution_count": 5,
   "id": "802b2d69-6354-4898-b04a-8b49c424d61f",
   "metadata": {},
   "outputs": [],
   "source": [
    "feature = data[\"Type\"].tolist()\n",
    "tfidf = text.TfidfVectorizer(input=feature, stop_words=\"english\")\n",
    "tfidf_matrix = tfidf.fit_transform(feature)\n",
    "similarity = cosine_similarity(tfidf_matrix)"
   ]
  },
  {
   "cell_type": "markdown",
   "id": "fac28314-003a-472a-a7b3-d7fb4905d9e7",
   "metadata": {},
   "source": [
    "### Set the name of the restaurant as an index"
   ]
  },
  {
   "cell_type": "code",
   "execution_count": 6,
   "id": "125b5556-eb3d-4d60-9a84-c23c61e34aa2",
   "metadata": {},
   "outputs": [],
   "source": [
    "indices = pd.Series(data.index, index=data['Name']).drop_duplicates()"
   ]
  },
  {
   "cell_type": "markdown",
   "id": "a811930b-7095-4784-a0a3-bcb93b6c187f",
   "metadata": {},
   "source": [
    "### Write a function to recommend similar restaurants"
   ]
  },
  {
   "cell_type": "code",
   "execution_count": 12,
   "id": "79f0c2e6-5688-4e4d-8842-20635be75d81",
   "metadata": {},
   "outputs": [
    {
     "name": "stdout",
     "output_type": "stream",
     "text": [
      "4                            The Clam Bar\n",
      "57                        Buzzard Billy's\n",
      "62                     Cedars at Pier One\n",
      "66     Maxie's Supper Club and Oyster Bar\n",
      "122               Duke's Huntington Beach\n",
      "189              River Station Restaurant\n",
      "247                       Fish City Grill\n",
      "304                    Tony's On the Pier\n",
      "374                         Pacific Grill\n",
      "393              Anthony's Woodfire Grill\n",
      "Name: Name, dtype: object\n"
     ]
    }
   ],
   "source": [
    "def restaurant_recommendation(name, similarity = similarity):\n",
    "    index = indices[name]\n",
    "    similarity_scores = list(enumerate(similarity[index]))\n",
    "    similarity_scores = sorted(similarity_scores, key=lambda x: x[1], reverse=True)\n",
    "    similarity_scores = similarity_scores[0:10]\n",
    "    restaurantindices = [i[0] for i in similarity_scores]\n",
    "    return data['Name'].iloc[restaurantindices]\n",
    "\n",
    "print(restaurant_recommendation(\"The Clam Bar\"))"
   ]
  },
  {
   "cell_type": "code",
   "execution_count": null,
   "id": "8b305bab-7a66-4f55-bdb3-614afa834256",
   "metadata": {},
   "outputs": [],
   "source": []
  }
 ],
 "metadata": {
  "kernelspec": {
   "display_name": "Python 3 (ipykernel)",
   "language": "python",
   "name": "python3"
  },
  "language_info": {
   "codemirror_mode": {
    "name": "ipython",
    "version": 3
   },
   "file_extension": ".py",
   "mimetype": "text/x-python",
   "name": "python",
   "nbconvert_exporter": "python",
   "pygments_lexer": "ipython3",
   "version": "3.9.12"
  }
 },
 "nbformat": 4,
 "nbformat_minor": 5
}
