{
 "cells": [
  {
   "cell_type": "code",
   "execution_count": null,
   "id": "9a4f818a-632d-4f2b-9b8e-d0b9c3116ec0",
   "metadata": {},
   "outputs": [],
   "source": [
    "def do_maths_corr(num):\n",
    "    count = 0\n",
    "    if abs(num) < 1:\n",
    "        x = round(num - int(num), len(str(num))-len(str(int(num))))\n",
    "        y = 0\n",
    "        while int(y)!=1:\n",
    "            y = x*2\n",
    "            # print(f'{x} * 2 = {y}') \n",
    "            x = y\n",
    "            count -= 1\n",
    "        y = round(y-1,4)\n",
    "        x = y\n",
    "        val = \"1.\"\n",
    "        mantissa = \"\"\n",
    "        for i in range(23):\n",
    "            y = x*2\n",
    "            # print(f'{x} * 2 = {y}')\n",
    "            val += str(int(y))\n",
    "            mantissa += str(int(y))\n",
    "            if(y>1):\n",
    "               y = round(y-1,4)\n",
    "            x = y\n",
    "        return count, mantissa\n",
    "    else:\n",
    "        num_in_binary = dec_to_bin_no_pad(int(num))\n",
    "        count = len(num_in_binary) - 1\n",
    "        x = round(num - int(num), len(str(num))-len(str(int(num))))\n",
    "        y = 0\n",
    "        mantissa = num_in_binary[1:]\n",
    "        for i in range(23-count):\n",
    "            y = x*2\n",
    "            mantissa += str(int(y))\n",
    "            if(y>=1):\n",
    "               y = round(y-1,4)\n",
    "            x = y\n",
    "        return count, mantissa\n",
    "    \n",
    "def float_to_bin(num):\n",
    "    x = float(abs(num))\n",
    "    count, mantissa =  do_maths_corr(x)\n",
    "    bias = dec_to_bin(127 + count)\n",
    "    sign = \"0\" if num > 0 else \"1\"\n",
    "    print(sign,bias,mantissa)\n",
    "    print(sign+bias+mantissa)"
   ]
  }
 ],
 "metadata": {
  "kernelspec": {
   "display_name": "Python 3 (ipykernel)",
   "language": "python",
   "name": "python3"
  },
  "language_info": {
   "codemirror_mode": {
    "name": "ipython",
    "version": 3
   },
   "file_extension": ".py",
   "mimetype": "text/x-python",
   "name": "python",
   "nbconvert_exporter": "python",
   "pygments_lexer": "ipython3",
   "version": "3.9.12"
  }
 },
 "nbformat": 4,
 "nbformat_minor": 5
}
