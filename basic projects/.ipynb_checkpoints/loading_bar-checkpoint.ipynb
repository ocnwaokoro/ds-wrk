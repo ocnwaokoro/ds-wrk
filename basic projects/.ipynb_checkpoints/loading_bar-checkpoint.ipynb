{
 "cells": [
  {
   "cell_type": "code",
   "execution_count": null,
   "id": "50cab839-7aa6-4931-8ce0-12b8df92d6a6",
   "metadata": {},
   "outputs": [],
   "source": [
    "\"\"\"This program makes a BMP file with a plus sign of a specified color\n",
    "\n",
    "Submitted by Mauricio Arias, NetID ma6918\n",
    "\"\"\"\n",
    "#‘▓’\n",
    "# total length of the bar in characters; 50\n",
    "'''\n",
    "Snapshot 1\n",
    "Progress |--------------------------------------------------|\n",
    "Snapshot 2\n",
    "Progress |>>>>>>>>>>>>>>>>>>>>>>>>>>>>>>>>>>>>>>>>----------|\n",
    "or example 2 with a different fill-in character\n",
    "Snapshot 1\n",
    "Progress |--------------------------------------------------|\n",
    "Snapshot 2\n",
    "Progress |▓▓▓▓▓▓▓▓▓▓▓▓▓▓▓▓▓▓▓▓▓▓▓▓▓▓▓▓▓▓--------------------|\n",
    " 0.0% completed\n",
    "'''\n",
    "\n",
    "boo = '--------------------------------------------------'\n",
    "print(len(boo))"
   ]
  },
  {
   "cell_type": "code",
   "execution_count": null,
   "id": "20c5b680-6f10-4dad-b2b3-2ea2ede4915e",
   "metadata": {},
   "outputs": [],
   "source": [
    "print('▓')"
   ]
  },
  {
   "cell_type": "code",
   "execution_count": null,
   "id": "13e367c9-a5fc-44cf-8515-25c93e55a9fc",
   "metadata": {},
   "outputs": [],
   "source": [
    "from random import uniform\n",
    "import time\n",
    "from IPython.display import display, clear_output\n",
    "shabnam = ''\n",
    "filler = '-'\n",
    "load = '▓'\n",
    "pour = 101\n",
    "for i in range(pour):\n",
    "    shabnam = load * int(i/(pour/50))\n",
    "    txt = f'Progress |{shabnam :{filler}<50}|'\n",
    "    if i == pour - 1:\n",
    "        shabnam = load * 50\n",
    "        txt = f'Progress |{shabnam :{filler}<50}|'\n",
    "    print(f'Snapshot {i+1}')\n",
    "    print(txt)\n",
    "    time.sleep(0.2)\n",
    "    clear_output(wait=True)\n",
    "    "
   ]
  },
  {
   "cell_type": "markdown",
   "id": "6d6567b5-1acb-490a-9b35-c2cde28e4899",
   "metadata": {},
   "source": [
    "### help(time)"
   ]
  },
  {
   "cell_type": "code",
   "execution_count": null,
   "id": "170576e6-eca5-4740-9b51-b2018196655b",
   "metadata": {},
   "outputs": [],
   "source": [
    "#from random import uniform\n",
    "import time\n",
    "from IPython.display import clear_output\n",
    "loaded = ''\n",
    "filler = '-'\n",
    "load = '▓'\n",
    "def progress_bar(num):\n",
    "    for i in range(num):\n",
    "        loaded = load * int(i/(num/50))\n",
    "        txt = f'Progress |{loaded :{filler}<50}|'\n",
    "        if i == num - 1:\n",
    "            loaded = load * 50\n",
    "            txt = f'Progress |{loaded :{filler}<50}|'\n",
    "        print(f'Snapshot {i+1}')   \n",
    "        txt2 = f'{100*float((i+1)/num):.1f}% completed'\n",
    "        txt += f'{txt2 :{\"\"}>20}'\n",
    "        #f'{a:.2f}'\n",
    "        print(txt)\n",
    "        time.sleep(num/(7*num))\n",
    "        clear_output(wait=True)\n",
    "# input number of snapshots to go through here\n",
    "progress_bar(444)"
   ]
  },
  {
   "cell_type": "code",
   "execution_count": null,
   "id": "ada3058e-3254-41ce-ab0e-ffce1ce5289b",
   "metadata": {},
   "outputs": [],
   "source": [
    "\"\"\"\n",
    "This program makes a BMP file with a plus sign of a specified color\n",
    "\n",
    "Submitted by Cris Alvarez, NetID cma9876\n",
    "\"\"\"\n",
    "from random import uniform\n",
    "import time\n",
    "from IPython.display import display, clear_output\n",
    "loaded = ''\n",
    "filler = '-'\n",
    "load = '▓'\n",
    "def progress_bar(num):\n",
    "    for i in range(num):\n",
    "        loaded = load * int(i/(num/50))\n",
    "        txt = f'Progress |{loaded :{filler}<50}|'\n",
    "        if i == num - 1:\n",
    "            loaded = load * 50\n",
    "            txt = f'Progress |{loaded :{filler}<50}|'\n",
    "        print(f'Snapshot {i+1}')   \n",
    "        txt2 = f'{100*float((i+1)/num):.1f}% completed'\n",
    "        txt += f'{txt2 :{\"\"}>20}'\n",
    "        #f'{a:.2f}'\n",
    "        print(txt)\n",
    "        time.sleep(num/(8*num))\n",
    "        clear_output(wait=True)\n",
    "# input number of snapshots to go through here\n",
    "progress_bar(444)"
   ]
  },
  {
   "cell_type": "code",
   "execution_count": null,
   "id": "bff943e8-414b-4d4e-9c26-fae54af23995",
   "metadata": {},
   "outputs": [],
   "source": [
    "\"\"\"\n",
    "This program makes a BMP file with a plus sign of a specified color\n",
    "\n",
    "Submitted by Cris Alvarez, NetID cma9876\n",
    "\"\"\"\n",
    "from random import uniform\n",
    "import time\n",
    "from IPython.display import display, clear_output\n",
    "loaded = ''\n",
    "filler = '-'\n",
    "load = '▓'\n",
    "def progress_bar(num):\n",
    "    for i in range(num):\n",
    "        loaded = load * int(i/(num/50))\n",
    "        txt = f'Progress |{loaded :{filler}<50}|'\n",
    "        if i == num - 1:\n",
    "            loaded = load * 50\n",
    "            txt = f'Progress |{loaded :{filler}<50}|'\n",
    "        print(f'Snapshot {i+1}')  \n",
    "        txt2 = f'{100*float((i+1)/num):.1f}% completed'\n",
    "        txt += f'{txt2 :{\"\"}>20}'\n",
    "        #f'{a:.2f}'\n",
    "        print(txt)\n",
    "        time.sleep(num/(8*num))\n",
    "        clear_output(wait=True)\n",
    "# input number of snapshots to go through here\n",
    "progress_bar(444)\n"
   ]
  },
  {
   "cell_type": "code",
   "execution_count": null,
   "id": "ba32a18c-0fd9-4532-b35e-c6f54cef8141",
   "metadata": {},
   "outputs": [],
   "source": []
  }
 ],
 "metadata": {
  "kernelspec": {
   "display_name": "Python 3 (ipykernel)",
   "language": "python",
   "name": "python3"
  },
  "language_info": {
   "codemirror_mode": {
    "name": "ipython",
    "version": 3
   },
   "file_extension": ".py",
   "mimetype": "text/x-python",
   "name": "python",
   "nbconvert_exporter": "python",
   "pygments_lexer": "ipython3",
   "version": "3.9.12"
  }
 },
 "nbformat": 4,
 "nbformat_minor": 5
}
