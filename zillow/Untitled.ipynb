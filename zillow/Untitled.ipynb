{
 "cells": [
  {
   "cell_type": "code",
   "execution_count": 127,
   "id": "abea3888-5cc5-40bc-8867-e12c1eb872ba",
   "metadata": {},
   "outputs": [
    {
     "ename": "AttributeError",
     "evalue": "'Request' object has no attribute 'text'",
     "output_type": "error",
     "traceback": [
      "\u001b[0;31m---------------------------------------------------------------------------\u001b[0m",
      "\u001b[0;31mAttributeError\u001b[0m                            Traceback (most recent call last)",
      "Input \u001b[0;32mIn [127]\u001b[0m, in \u001b[0;36m<cell line: 116>\u001b[0;34m()\u001b[0m\n\u001b[1;32m    116\u001b[0m \u001b[38;5;28;01mif\u001b[39;00m \u001b[38;5;18m__name__\u001b[39m \u001b[38;5;241m==\u001b[39m \u001b[38;5;124m'\u001b[39m\u001b[38;5;124m__main__\u001b[39m\u001b[38;5;124m'\u001b[39m:\n\u001b[1;32m    117\u001b[0m     zipcode \u001b[38;5;241m=\u001b[39m \u001b[38;5;241m78254\u001b[39m  \u001b[38;5;66;03m# San Antonio, Far West Side\u001b[39;00m\n\u001b[0;32m--> 118\u001b[0m     zpids \u001b[38;5;241m=\u001b[39m \u001b[43mget_zpids\u001b[49m\u001b[43m(\u001b[49m\u001b[43mzipcode\u001b[49m\u001b[43m,\u001b[49m\u001b[43m \u001b[49m\u001b[43msort_by\u001b[49m\u001b[38;5;241;43m=\u001b[39;49m\u001b[38;5;124;43m'\u001b[39;49m\u001b[38;5;124;43mnewest\u001b[39;49m\u001b[38;5;124;43m'\u001b[39;49m\u001b[43m)\u001b[49m\n",
      "Input \u001b[0;32mIn [127]\u001b[0m, in \u001b[0;36mget_zpids\u001b[0;34m(zipcode, sort_by, verbose)\u001b[0m\n\u001b[1;32m     75\u001b[0m \u001b[38;5;66;03m# parse the HTML into a tree\u001b[39;00m\n\u001b[1;32m     76\u001b[0m soup \u001b[38;5;241m=\u001b[39m BeautifulSoup(webpage)\n\u001b[0;32m---> 77\u001b[0m \u001b[38;5;28mprint\u001b[39m(\u001b[43mreq\u001b[49m\u001b[38;5;241;43m.\u001b[39;49m\u001b[43mtext\u001b[49m)\n\u001b[1;32m     79\u001b[0m listings \u001b[38;5;241m=\u001b[39m soup\u001b[38;5;241m.\u001b[39mfind(\n\u001b[1;32m     80\u001b[0m     \u001b[38;5;124m'\u001b[39m\u001b[38;5;124mul\u001b[39m\u001b[38;5;124m'\u001b[39m, \n\u001b[1;32m     81\u001b[0m     {\u001b[38;5;124m'\u001b[39m\u001b[38;5;124mclass\u001b[39m\u001b[38;5;124m'\u001b[39m: \u001b[38;5;124m'\u001b[39m\u001b[38;5;124mphoto-cards photo-cards_wow photo-cards_short\u001b[39m\u001b[38;5;124m'\u001b[39m}\n\u001b[1;32m     82\u001b[0m )\n\u001b[1;32m     84\u001b[0m \u001b[38;5;28;01mdef\u001b[39;00m \u001b[38;5;21m_extract_zpid\u001b[39m(li: Tag) \u001b[38;5;241m-\u001b[39m\u001b[38;5;241m>\u001b[39m \u001b[38;5;28mint\u001b[39m:\n",
      "\u001b[0;31mAttributeError\u001b[0m: 'Request' object has no attribute 'text'"
     ]
    }
   ],
   "source": [
    "from typing import List\n",
    "\n",
    "from urllib.request import Request, urlopen\n",
    "from bs4 import BeautifulSoup\n",
    "from bs4.element import Tag\n",
    "\n",
    "def create_url(zipcode: int, sort_by: str=None, verbose: bool=False) -> str:\n",
    "    \"\"\"\n",
    "    Generates a URL to the Zillow properties listed\n",
    "    for the given zipcode.\n",
    "    \n",
    "    Parameters\n",
    "    ---------\n",
    "    zipcode : int\n",
    "        The zipcode to generate the URL for\n",
    "        \n",
    "    sort_by : str, optional; default = None; options: {\n",
    "    'high-low', 'low-high', 'newest', 'bedrooms', 'bathrooms',\n",
    "    'house-size', 'lot-size', 'zest-high-low', 'zest-low-high'\n",
    "    }\n",
    "        Sort the listings by the given filter.\n",
    "        \n",
    "    Returns\n",
    "    -------\n",
    "    url : str\n",
    "    \"\"\"\n",
    "    sort_options = {\n",
    "        'high-low': 'priced_sort',\n",
    "        'low-high': 'pricea_sort',\n",
    "        'newest': 'days_sort',\n",
    "        'bedrooms': 'beds_sort',\n",
    "        'bathrooms': 'baths_sort',\n",
    "        'house-size': 'size_sort',\n",
    "        'lot-size': 'lot_sort',\n",
    "        'zest-high-low': 'zest_sort',\n",
    "        'zest-low-high': 'zesta_sort'\n",
    "    }\n",
    "    \n",
    "    option = sort_options.get(sort_by, 'globalrelevanceex_sort')\n",
    "    url = f'https://www.zillow.com/homes/for_sale/{zipcode}/0_singlestory/{option}'\n",
    "\n",
    "    if verbose:\n",
    "        print(url)\n",
    "\n",
    "    return url\n",
    "\n",
    "def get_zpids(zipcode: int, sort_by: str=None, verbose: bool=False) -> List[int]:\n",
    "    \"\"\"\n",
    "    Extracts all Zillow Property ID's (zpid) for each listing\n",
    "    in the given zipcode.\n",
    "    \n",
    "    Parameters\n",
    "    ---------\n",
    "    zipcode : int\n",
    "        The zipcode to retrieve the ZPID's for\n",
    "        \n",
    "    sort_by : str, optional; default = None; options: {\n",
    "        'high-low', 'low-high', 'newest', 'bedrooms', 'bathrooms',\n",
    "        'house-size', 'lot-size', 'zest-high-low', 'zest-low-high'\n",
    "    }\n",
    "        Sort the listings by the given filter.\n",
    "        \n",
    "    Returns\n",
    "    -------\n",
    "    zpids : List[int]\n",
    "    \n",
    "    \"\"\"\n",
    "    url = create_url(zipcode, sort_by, verbose)\n",
    "    # TODO replace with get_headers()\n",
    "    headers = {'User-Agent': 'Mozilla/5.0'}\n",
    "    headers = get_headers()\n",
    "\n",
    "    req = Request(url, headers=headers)\n",
    "    webpage = urlopen(req).read()\n",
    "    # parse the HTML into a tree\n",
    "    soup = BeautifulSoup(webpage)\n",
    "    \n",
    "    listings = soup.find(\n",
    "        'ul', \n",
    "        {'class': 'photo-cards photo-cards_wow photo-cards_short'}\n",
    "    )\n",
    "    \n",
    "    def _extract_zpid(li: Tag) -> int:\n",
    "        article = li.find(\n",
    "            'article',\n",
    "            {'class': 'list-card list-card-short list-card_not-saved'}\n",
    "        )\n",
    "        if article is None:\n",
    "            return None\n",
    "        \n",
    "        return int(article.get('id').replace('zpid_', ''))\n",
    "\n",
    "    zpids = []\n",
    "    for li in listings.find_all('li'):\n",
    "        zpid = _extract_zpid(li)\n",
    "        if zpid is not None:\n",
    "            zpids.append(zpid)\n",
    "        \n",
    "    return zpids\n",
    "    \n",
    "\n",
    "# FIXME - causing incorrect encoding\n",
    "def get_headers():\n",
    "    headers = {\n",
    "        'accept': 'text/html,application/xhtml+xml,application/xml;q=0.9,image/webp,*/*;q=0.8',\n",
    "        'accept-encoding': 'gzip, deflate, sdch, br',\n",
    "        'accept-language': 'en-GB,en;q=0.8,en-US;q=0.6,ml;q=0.4',\n",
    "        'cache-control': 'max-age=0',\n",
    "        'upgrade-insecure-requests': '1',\n",
    "        'user-agent': 'Mozilla/5.0 (X11; Linux x86_64) AppleWebKit/537.36 (KHTML, like Gecko) Chrome/107.0.5304.87 Safari/537.36',\n",
    "        #'user-agent': 'Chrome/107.0.5304.87'\n",
    "    }\n",
    "    return headers\n",
    "# can then easily turn this into a CLI\n",
    "if __name__ == '__main__':\n",
    "    zipcode = 78254  # San Antonio, Far West Side\n",
    "    zpids = get_zpids(zipcode, sort_by='newest')"
   ]
  },
  {
   "cell_type": "code",
   "execution_count": null,
   "id": "0e19770f-fe80-4b37-a273-a66f47f90206",
   "metadata": {},
   "outputs": [],
   "source": []
  },
  {
   "cell_type": "code",
   "execution_count": null,
   "id": "16598016-b75b-48bf-b650-201e659e8926",
   "metadata": {},
   "outputs": [],
   "source": []
  },
  {
   "cell_type": "code",
   "execution_count": 66,
   "id": "7efdaf4c-450f-48eb-b245-87eeddd6174d",
   "metadata": {},
   "outputs": [],
   "source": [
    "import bs4 , requests\n",
    "\n",
    "res = requests.get(\"http://allevents.in/lahore/\")\n",
    "soup = bs4.BeautifulSoup(res.text)\n",
    "for link in soup.select('a[property=\"schema:url\"]'):\n",
    "    print(link.get('href'))"
   ]
  },
  {
   "cell_type": "code",
   "execution_count": null,
   "id": "5ae70f1e-4dc0-4608-826a-41ed7702b495",
   "metadata": {},
   "outputs": [],
   "source": []
  },
  {
   "cell_type": "code",
   "execution_count": null,
   "id": "8f00881f-42bf-4684-bfd6-eb59eb690f3b",
   "metadata": {},
   "outputs": [],
   "source": []
  },
  {
   "cell_type": "code",
   "execution_count": null,
   "id": "79151add-cb3d-4b9c-a1ff-b08fb188ee1b",
   "metadata": {},
   "outputs": [],
   "source": []
  },
  {
   "cell_type": "markdown",
   "id": "2f674e7f-58a3-4f25-9b77-7ae83c4f1654",
   "metadata": {},
   "source": [
    "## https://gist.github.com/yanniskatsaros/fb6f163b814b60424d449f6b87fa0545"
   ]
  },
  {
   "cell_type": "code",
   "execution_count": 114,
   "id": "f7c7fa47-000e-4954-a6ae-f3d8f9bc50cd",
   "metadata": {},
   "outputs": [
    {
     "data": {
      "text/plain": [
       "'<html><head><meta name=\"robots\" content=\"noindex, nofollow\"/><link href=\"https://www.zillowstatic.com/vstatic/80d5e73/static/css/z-pages/captcha.css\" type=\"text/css\" rel=\"stylesheet\" media=\"screen\"/><script>\\n        window._pxAppId = \\'PXHYx10rg3\\';\\n        window._pxJsClientSrc = \\'/HYx10rg3/init.js\\';\\n        window._pxHostUrl = \\'/HYx10rg3/xhr\\';\\n        window._pxFirstPartyEnabled = true;\\n        window._pxreCaptchaTheme=\\'light\\';\\n    </script><script type=\"text/javascript\" src=\"https://captcha.px-cdn.net/PXHYx10rg3/captcha.js?a=c&amp;m=0\"></script>\\n    <script>\\n        function getQueryString(name, url) {\\n            if (!url) url = window.location.href;\\n            name = name.replace(/[\\\\[\\\\]]/g, \"\\\\\\\\$&\");\\n            var regex = new RegExp(\"[?&]\" + name + \"(=([^&#]*)|&|#|$)\"),\\n                results = regex.exec(url);\\n            if (!results) return null;\\n            if (!results[2]) return \\'\\';\\n            return decodeURIComponent(results[2].replace(/\\\\+/g, \" \"));\\n        }\\n        document.addEventListener(\"DOMContentLoaded\", function(e) {\\n            var uuidVerifyRegExp = /^\\\\{?[0-9a-fA-F]{8}-[0-9a-fA-F]{4}-[0-9a-fA-F]{4}-[0-9a-fA-F]{4}-[0-9a-fA-F]{12}\\\\}?$/i;\\n            document.getElementById(\"uuid\").innerText = \"UUID: \" + uuidVerifyRegExp.exec(getQueryString(\"uuid\"));\\n        });\\n\\n        function handleCaptcha(response) {\\n            var vid = getQueryString(\"vid\"); // getQueryString is implemented below\\n            var uuid = getQueryString(\"uuid\");\\n            var name = \\'_pxCaptcha\\';\\n            var cookieValue =  btoa(JSON.stringify({r:response,v:vid,u:uuid}));\\n            var cookieParts = [name, \\'=\\', cookieValue, \\'; path=/\\'];\\n            cookieParts.push(\\'; domain=\\' + window.location.hostname);\\n            cookieParts.push(\\'; max-age=10\\');//expire after 10 seconds\\n            document.cookie = cookieParts.join(\\'\\');\\n            var originalURL = getOriginalUrl(\"url\");\\n            var originalHost = window.location.host;\\n            var newHref = window.location.protocol + \"//\" + originalHost;\\n            originalURL = originalURL || \\'/\\';\\n            newHref = newHref + originalURL;\\n            window.location.href = newHref;\\n        }\\n\\n        function getOriginalUrl(name) {\\n            var url = getQueryString(name);\\n            if (!url) return null;\\n            var regExMatcher = new RegExp(\"(([^&#@]*)|&|#|$)\");\\n            var matches = regExMatcher.exec(url);\\n            if (!matches) return null;\\n            return matches[0];\\n        }\\n    </script></head><body><main class=\"zsg-layout-content\"><div class=\"error-content-block\"><div class=\"error-text-content\"><!-- <h1>Captcha</h1> --><h5>Please verify you\\'re a human to continue.</h5><div id=\"content\" class=\"captcha-container\"><div id=\"px-captcha\" data-callback=\"handleCaptcha\"></div><img src=\"https://www.zillowstatic.com/static/logos/logo-65x14.png\" width=\"65\" alt=\"Zillow\" height=\"14\"></img></div></div></div></main><h4 id=\"uuid\" class=\"uuid-string zsg-fineprint\"></h4></body></html><!-- H:025  T:1ms  S:2605  R:Thu Nov 03 15:55:14 PDT 2022  B:5.0.69756-master.45fefad~qa,spring_4_pre.52734882 -->'"
      ]
     },
     "execution_count": 114,
     "metadata": {},
     "output_type": "execute_result"
    }
   ],
   "source": [
    "url = 'https://www.zillow.com/homes/for_sale/78254/0_singlestory/days_sort'\n",
    "req = requests.get(url)\n",
    "req.text"
   ]
  },
  {
   "cell_type": "code",
   "execution_count": null,
   "id": "edf01f99-6543-4f87-8842-084d0fa552f7",
   "metadata": {},
   "outputs": [],
   "source": []
  }
 ],
 "metadata": {
  "kernelspec": {
   "display_name": "Python 3 (ipykernel)",
   "language": "python",
   "name": "python3"
  },
  "language_info": {
   "codemirror_mode": {
    "name": "ipython",
    "version": 3
   },
   "file_extension": ".py",
   "mimetype": "text/x-python",
   "name": "python",
   "nbconvert_exporter": "python",
   "pygments_lexer": "ipython3",
   "version": "3.9.12"
  }
 },
 "nbformat": 4,
 "nbformat_minor": 5
}
