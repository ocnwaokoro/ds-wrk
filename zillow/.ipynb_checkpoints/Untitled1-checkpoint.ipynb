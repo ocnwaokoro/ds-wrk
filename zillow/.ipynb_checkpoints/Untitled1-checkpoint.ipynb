{
 "cells": [
  {
   "cell_type": "code",
   "execution_count": 3,
   "id": "c734a7ce-fd7c-40f7-a6f2-0cb9a928ddc1",
   "metadata": {},
   "outputs": [
    {
     "name": "stdout",
     "output_type": "stream",
     "text": [
      "shape: (40, 88)\n"
     ]
    },
    {
     "data": {
      "text/html": [
       "<div>\n",
       "<style scoped>\n",
       "    .dataframe tbody tr th:only-of-type {\n",
       "        vertical-align: middle;\n",
       "    }\n",
       "\n",
       "    .dataframe tbody tr th {\n",
       "        vertical-align: top;\n",
       "    }\n",
       "\n",
       "    .dataframe thead th {\n",
       "        text-align: right;\n",
       "    }\n",
       "</style>\n",
       "<table border=\"1\" class=\"dataframe\">\n",
       "  <thead>\n",
       "    <tr style=\"text-align: right;\">\n",
       "      <th></th>\n",
       "      <th>id</th>\n",
       "      <th>beds</th>\n",
       "      <th>baths</th>\n",
       "      <th>area</th>\n",
       "      <th>price</th>\n",
       "    </tr>\n",
       "  </thead>\n",
       "  <tbody>\n",
       "    <tr>\n",
       "      <th>0</th>\n",
       "      <td>31820549</td>\n",
       "      <td>3</td>\n",
       "      <td>1.0</td>\n",
       "      <td>1848</td>\n",
       "      <td>$364,900</td>\n",
       "    </tr>\n",
       "    <tr>\n",
       "      <th>1</th>\n",
       "      <td>32268242</td>\n",
       "      <td>5</td>\n",
       "      <td>2.0</td>\n",
       "      <td>2548</td>\n",
       "      <td>$114,900</td>\n",
       "    </tr>\n",
       "    <tr>\n",
       "      <th>2</th>\n",
       "      <td>30951877</td>\n",
       "      <td>3</td>\n",
       "      <td>1.0</td>\n",
       "      <td>1416</td>\n",
       "      <td>$139,900</td>\n",
       "    </tr>\n",
       "    <tr>\n",
       "      <th>3</th>\n",
       "      <td>30912133</td>\n",
       "      <td>4</td>\n",
       "      <td>2.0</td>\n",
       "      <td>1296</td>\n",
       "      <td>$159,900</td>\n",
       "    </tr>\n",
       "    <tr>\n",
       "      <th>4</th>\n",
       "      <td>30924793</td>\n",
       "      <td>3</td>\n",
       "      <td>2.0</td>\n",
       "      <td>1332</td>\n",
       "      <td>$169,900</td>\n",
       "    </tr>\n",
       "    <tr>\n",
       "      <th>5</th>\n",
       "      <td>30947564</td>\n",
       "      <td>3</td>\n",
       "      <td>2.0</td>\n",
       "      <td>1809</td>\n",
       "      <td>$174,900</td>\n",
       "    </tr>\n",
       "    <tr>\n",
       "      <th>6</th>\n",
       "      <td>31483407</td>\n",
       "      <td>3</td>\n",
       "      <td>2.0</td>\n",
       "      <td>1769</td>\n",
       "      <td>$125,000</td>\n",
       "    </tr>\n",
       "    <tr>\n",
       "      <th>7</th>\n",
       "      <td>31717011</td>\n",
       "      <td>3</td>\n",
       "      <td>3.0</td>\n",
       "      <td>1782</td>\n",
       "      <td>$209,900</td>\n",
       "    </tr>\n",
       "    <tr>\n",
       "      <th>8</th>\n",
       "      <td>31030596</td>\n",
       "      <td>4</td>\n",
       "      <td>2.0</td>\n",
       "      <td>1769</td>\n",
       "      <td>$249,000</td>\n",
       "    </tr>\n",
       "    <tr>\n",
       "      <th>9</th>\n",
       "      <td>29678588</td>\n",
       "      <td>3</td>\n",
       "      <td>2.0</td>\n",
       "      <td>1850</td>\n",
       "      <td>$285,000</td>\n",
       "    </tr>\n",
       "    <tr>\n",
       "      <th>10</th>\n",
       "      <td>30072133</td>\n",
       "      <td>3</td>\n",
       "      <td>1.0</td>\n",
       "      <td>1063</td>\n",
       "      <td>$199,000</td>\n",
       "    </tr>\n",
       "    <tr>\n",
       "      <th>11</th>\n",
       "      <td>31209593</td>\n",
       "      <td>3</td>\n",
       "      <td>2.0</td>\n",
       "      <td>None</td>\n",
       "      <td>$539,900</td>\n",
       "    </tr>\n",
       "    <tr>\n",
       "      <th>12</th>\n",
       "      <td>29653091</td>\n",
       "      <td>4</td>\n",
       "      <td>2.0</td>\n",
       "      <td>1854</td>\n",
       "      <td>$284,900</td>\n",
       "    </tr>\n",
       "    <tr>\n",
       "      <th>13</th>\n",
       "      <td>30983363</td>\n",
       "      <td>4</td>\n",
       "      <td>2.0</td>\n",
       "      <td>1157</td>\n",
       "      <td>$149,900</td>\n",
       "    </tr>\n",
       "    <tr>\n",
       "      <th>14</th>\n",
       "      <td>31722469</td>\n",
       "      <td>3</td>\n",
       "      <td>2.0</td>\n",
       "      <td>1248</td>\n",
       "      <td>$159,900</td>\n",
       "    </tr>\n",
       "    <tr>\n",
       "      <th>15</th>\n",
       "      <td>2067603580</td>\n",
       "      <td>7</td>\n",
       "      <td>11.0</td>\n",
       "      <td>17545</td>\n",
       "      <td>$250,000,000</td>\n",
       "    </tr>\n",
       "    <tr>\n",
       "      <th>16</th>\n",
       "      <td>31435428</td>\n",
       "      <td>4</td>\n",
       "      <td>2.0</td>\n",
       "      <td>1336</td>\n",
       "      <td>$129,900</td>\n",
       "    </tr>\n",
       "    <tr>\n",
       "      <th>17</th>\n",
       "      <td>32774116</td>\n",
       "      <td>4</td>\n",
       "      <td>2.0</td>\n",
       "      <td>2300</td>\n",
       "      <td>$335,000</td>\n",
       "    </tr>\n",
       "    <tr>\n",
       "      <th>18</th>\n",
       "      <td>219734645</td>\n",
       "      <td>4</td>\n",
       "      <td>3.0</td>\n",
       "      <td>3320</td>\n",
       "      <td>$239,900</td>\n",
       "    </tr>\n",
       "    <tr>\n",
       "      <th>19</th>\n",
       "      <td>30230375</td>\n",
       "      <td>4</td>\n",
       "      <td>3.0</td>\n",
       "      <td>2184</td>\n",
       "      <td>$249,900</td>\n",
       "    </tr>\n",
       "  </tbody>\n",
       "</table>\n",
       "</div>"
      ],
      "text/plain": [
       "            id  beds  baths   area         price\n",
       "0     31820549     3    1.0   1848      $364,900\n",
       "1     32268242     5    2.0   2548      $114,900\n",
       "2     30951877     3    1.0   1416      $139,900\n",
       "3     30912133     4    2.0   1296      $159,900\n",
       "4     30924793     3    2.0   1332      $169,900\n",
       "5     30947564     3    2.0   1809      $174,900\n",
       "6     31483407     3    2.0   1769      $125,000\n",
       "7     31717011     3    3.0   1782      $209,900\n",
       "8     31030596     4    2.0   1769      $249,000\n",
       "9     29678588     3    2.0   1850      $285,000\n",
       "10    30072133     3    1.0   1063      $199,000\n",
       "11    31209593     3    2.0   None      $539,900\n",
       "12    29653091     4    2.0   1854      $284,900\n",
       "13    30983363     4    2.0   1157      $149,900\n",
       "14    31722469     3    2.0   1248      $159,900\n",
       "15  2067603580     7   11.0  17545  $250,000,000\n",
       "16    31435428     4    2.0   1336      $129,900\n",
       "17    32774116     4    2.0   2300      $335,000\n",
       "18   219734645     4    3.0   3320      $239,900\n",
       "19    30230375     4    3.0   2184      $249,900"
      ]
     },
     "metadata": {},
     "output_type": "display_data"
    }
   ],
   "source": [
    "import requests\n",
    "import pandas as pd\n",
    "import json\n",
    "import re\n",
    "from bs4 import BeautifulSoup\n",
    "\n",
    "city = 'newyork/'\n",
    "\n",
    "url = 'https://www.zillow.com/homes/for_sale/'+city\n",
    "\n",
    "headers = headers = {\n",
    "    'accept': 'text/html,application/xhtml+xml,application/xml;q=0.9,image/webp,image/apng,*/*;q=0.8',\n",
    "    'accept-encoding': 'gzip, deflate, br',\n",
    "    'accept-language': 'en-US,en;q=0.8',\n",
    "    'upgrade-insecure-requests': '1',\n",
    "    'user-agent': 'ocnbot',\n",
    "    'From' : 'ocn@nyu.edu'\n",
    "}\n",
    "\n",
    "with requests.Session() as s:\n",
    "    resp = s.get(url, headers=headers)\n",
    "   \n",
    "    data1 = json.loads(re.search(r'!--(\\{\"queryState\".*?)-->', resp.text).group(1))\n",
    "\n",
    "\n",
    "data_list = [data1]\n",
    "\n",
    "df = pd.DataFrame()\n",
    "\n",
    "def generate_dataframe(frame):\n",
    "    for i in data_list:\n",
    "        for item in i['cat1']['searchResults']['listResults']:\n",
    "            frame = pd.concat([frame,pd.json_normalize(item)],ignore_index=True)\n",
    "    return frame\n",
    "\n",
    "df = generate_dataframe(df)\n",
    "\n",
    "\n",
    "print('shape:', df.shape)\n",
    "display(df[['id','beds','baths','area','price']].head(20))"
   ]
  },
  {
   "cell_type": "code",
   "execution_count": 23,
   "id": "080b141b-2c6c-4799-bf38-965e8dcece38",
   "metadata": {},
   "outputs": [],
   "source": [
    "url = 'https://www.nj.gov/nj/gov/direct/njzips.html'\n",
    "res = requests.get(url)\n",
    "dom = BeautifulSoup(res.text)\n",
    "ooo = dom.select('[width=\"15%\"]')[1:]\n",
    "nj_zip_codes = list({o.text for o in ooo})"
   ]
  },
  {
   "cell_type": "code",
   "execution_count": 123,
   "id": "915af587-c7b6-4abd-b645-29e3e747e53d",
   "metadata": {},
   "outputs": [
    {
     "name": "stdout",
     "output_type": "stream",
     "text": [
      "https://www.zillow.com/homes/for_sale/07205\n"
     ]
    },
    {
     "ename": "AttributeError",
     "evalue": "'NoneType' object has no attribute 'group'",
     "output_type": "error",
     "traceback": [
      "\u001b[0;31m---------------------------------------------------------------------------\u001b[0m",
      "\u001b[0;31mAttributeError\u001b[0m                            Traceback (most recent call last)",
      "Input \u001b[0;32mIn [123]\u001b[0m, in \u001b[0;36m<cell line: 2>\u001b[0;34m()\u001b[0m\n\u001b[1;32m     15\u001b[0m resp \u001b[38;5;241m=\u001b[39m s\u001b[38;5;241m.\u001b[39mget(url, headers\u001b[38;5;241m=\u001b[39mheaders)\n\u001b[1;32m     16\u001b[0m \u001b[38;5;28mprint\u001b[39m(url)\n\u001b[0;32m---> 18\u001b[0m data1 \u001b[38;5;241m=\u001b[39m json\u001b[38;5;241m.\u001b[39mloads(\u001b[43mre\u001b[49m\u001b[38;5;241;43m.\u001b[39;49m\u001b[43msearch\u001b[49m\u001b[43m(\u001b[49m\u001b[38;5;124;43mr\u001b[39;49m\u001b[38;5;124;43m'\u001b[39;49m\u001b[38;5;124;43m!--(\u001b[39;49m\u001b[38;5;124;43m\\\u001b[39;49m\u001b[38;5;124;43m{\u001b[39;49m\u001b[38;5;124;43m\"\u001b[39;49m\u001b[38;5;124;43mqueryState\u001b[39;49m\u001b[38;5;124;43m\"\u001b[39;49m\u001b[38;5;124;43m.*?)-->\u001b[39;49m\u001b[38;5;124;43m'\u001b[39;49m\u001b[43m,\u001b[49m\u001b[43m \u001b[49m\u001b[43mresp\u001b[49m\u001b[38;5;241;43m.\u001b[39;49m\u001b[43mtext\u001b[49m\u001b[43m)\u001b[49m\u001b[38;5;241;43m.\u001b[39;49m\u001b[43mgroup\u001b[49m(\u001b[38;5;241m1\u001b[39m))\n\u001b[1;32m     21\u001b[0m data_list \u001b[38;5;241m=\u001b[39m [data1]\n\u001b[1;32m     23\u001b[0m df \u001b[38;5;241m=\u001b[39m pd\u001b[38;5;241m.\u001b[39mDataFrame()\n",
      "\u001b[0;31mAttributeError\u001b[0m: 'NoneType' object has no attribute 'group'"
     ]
    }
   ],
   "source": [
    "big_data = pd.DataFrame()\n",
    "with requests.Session() as s:\n",
    "    for zip_code in nj_zip_codes:\n",
    "        url = 'https://www.zillow.com/homes/for_sale/'+zip_code\n",
    "\n",
    "        headers = headers = {\n",
    "            'accept': 'text/html,application/xhtml+xml,application/xml;q=0.9,image/webp,image/apng,*/*;q=0.8',\n",
    "            'accept-encoding': 'gzip, deflate, br',\n",
    "            'accept-language': 'en-US,en;q=0.8',\n",
    "            'upgrade-insecure-requests': '1',\n",
    "            'user-agent': 'ocnbot',\n",
    "            'From' : 'ocn2006@nyu.edu'\n",
    "        }\n",
    "\n",
    "        resp = s.get(url, headers=headers)\n",
    "        print(url)\n",
    "\n",
    "        data1 = json.loads(re.search(r'!--(\\{\"queryState\".*?)-->', resp.text).group(1))\n",
    "\n",
    "\n",
    "        data_list = [data1]\n",
    "\n",
    "        df = pd.DataFrame()\n",
    "\n",
    "        def generate_dataframe(frame):\n",
    "            try:\n",
    "                for i in data_list:\n",
    "                    for item in i['cat1']['searchResults']['listResults']:\n",
    "\n",
    "                        #frame = frame.append(item, ignore_index=True)\n",
    "                        frame = pd.concat([frame,pd.json_normalize(item)],ignore_index=True)\n",
    "                return frame\n",
    "            except:\n",
    "                return 0\n",
    "\n",
    "        df = generate_dataframe(df)\n",
    "        try:\n",
    "            big_data = pd.concat([big_data,df],ignore_index=True)\n",
    "        except:\n",
    "            print('bad at',nj_zip_codes.index(zip_code))\n",
    "            pass\n",
    "print('shape:', big_data.shape)\n",
    "display(big_data[['id','beds','baths','area','price']].head())"
   ]
  },
  {
   "cell_type": "code",
   "execution_count": 110,
   "id": "5edd5c2f-e66e-4127-adbc-7d42149c7550",
   "metadata": {},
   "outputs": [
    {
     "name": "stdout",
     "output_type": "stream",
     "text": [
      "24 737\n"
     ]
    }
   ],
   "source": [
    "print(nj_zip_codes.index('07701'),len(nj_zip_codes))"
   ]
  },
  {
   "cell_type": "code",
   "execution_count": 111,
   "id": "3009bbe0-256e-4384-af66-3ef5698432f6",
   "metadata": {},
   "outputs": [
    {
     "name": "stdout",
     "output_type": "stream",
     "text": [
      "18824.208333333336\n"
     ]
    }
   ],
   "source": [
    "print((len(big_data)/24)*737)"
   ]
  },
  {
   "cell_type": "code",
   "execution_count": 72,
   "id": "328ca0b5-43cd-4e6e-ad9d-1383a1ef34ca",
   "metadata": {},
   "outputs": [
    {
     "data": {
      "text/plain": [
       "102"
      ]
     },
     "execution_count": 72,
     "metadata": {},
     "output_type": "execute_result"
    }
   ],
   "source": [
    "len(big_data.columns)"
   ]
  },
  {
   "cell_type": "code",
   "execution_count": 95,
   "id": "04027ab3-b42e-481d-b687-820efae15d0b",
   "metadata": {},
   "outputs": [],
   "source": [
    "big_data.to_csv('small_zillow_info.csv')"
   ]
  },
  {
   "cell_type": "code",
   "execution_count": 98,
   "id": "1400b2c0-2e64-417c-97db-3947a1f90c9c",
   "metadata": {},
   "outputs": [],
   "source": [
    "cols = list(big_data.columns)"
   ]
  },
  {
   "cell_type": "code",
   "execution_count": 99,
   "id": "5ecf4d2b-9059-438a-864c-a0dcd134bb47",
   "metadata": {},
   "outputs": [
    {
     "data": {
      "text/plain": [
       "['zpid',\n",
       " 'id',\n",
       " 'providerListingId',\n",
       " 'imgSrc',\n",
       " 'hasImage',\n",
       " 'detailUrl',\n",
       " 'statusType',\n",
       " 'statusText',\n",
       " 'countryCurrency',\n",
       " 'price',\n",
       " 'unformattedPrice',\n",
       " 'address',\n",
       " 'addressStreet',\n",
       " 'addressCity',\n",
       " 'addressState',\n",
       " 'addressZipcode',\n",
       " 'isUndisclosedAddress',\n",
       " 'beds',\n",
       " 'baths',\n",
       " 'area',\n",
       " 'isZillowOwned',\n",
       " 'badgeInfo',\n",
       " 'isSaved',\n",
       " 'isUserClaimingOwner',\n",
       " 'isUserConfirmedClaim',\n",
       " 'pgapt',\n",
       " 'sgapt',\n",
       " 'zestimate',\n",
       " 'shouldShowZestimateAsPrice',\n",
       " 'has3DModel',\n",
       " 'hasVideo',\n",
       " 'isHomeRec',\n",
       " 'brokerName',\n",
       " 'hasAdditionalAttributions',\n",
       " 'isFeaturedListing',\n",
       " 'availabilityDate',\n",
       " 'list',\n",
       " 'relaxed',\n",
       " 'latLong.latitude',\n",
       " 'latLong.longitude',\n",
       " 'variableData.type',\n",
       " 'variableData.text',\n",
       " 'hdpData.homeInfo.zpid',\n",
       " 'hdpData.homeInfo.streetAddress',\n",
       " 'hdpData.homeInfo.zipcode',\n",
       " 'hdpData.homeInfo.city',\n",
       " 'hdpData.homeInfo.state',\n",
       " 'hdpData.homeInfo.latitude',\n",
       " 'hdpData.homeInfo.longitude',\n",
       " 'hdpData.homeInfo.price',\n",
       " 'hdpData.homeInfo.bathrooms',\n",
       " 'hdpData.homeInfo.bedrooms',\n",
       " 'hdpData.homeInfo.homeType',\n",
       " 'hdpData.homeInfo.homeStatus',\n",
       " 'hdpData.homeInfo.daysOnZillow',\n",
       " 'hdpData.homeInfo.isFeatured',\n",
       " 'hdpData.homeInfo.shouldHighlight',\n",
       " 'hdpData.homeInfo.listing_sub_type.is_FSBA',\n",
       " 'hdpData.homeInfo.isUnmappable',\n",
       " 'hdpData.homeInfo.isPreforeclosureAuction',\n",
       " 'hdpData.homeInfo.homeStatusForHDP',\n",
       " 'hdpData.homeInfo.priceForHDP',\n",
       " 'hdpData.homeInfo.isNonOwnerOccupied',\n",
       " 'hdpData.homeInfo.isPremierBuilder',\n",
       " 'hdpData.homeInfo.isZillowOwned',\n",
       " 'hdpData.homeInfo.currency',\n",
       " 'hdpData.homeInfo.country',\n",
       " 'hdpData.homeInfo.taxAssessedValue',\n",
       " 'hdpData.homeInfo.lotAreaValue',\n",
       " 'hdpData.homeInfo.lotAreaUnit',\n",
       " 'hasOpenHouse',\n",
       " 'openHouseStartDate',\n",
       " 'openHouseEndDate',\n",
       " 'openHouseDescription',\n",
       " 'hdpData.homeInfo.livingArea',\n",
       " 'hdpData.homeInfo.listing_sub_type.is_openHouse',\n",
       " 'hdpData.homeInfo.openHouse',\n",
       " 'hdpData.homeInfo.open_house_info.open_house_showing',\n",
       " 'hdpData.homeInfo.datePriceChanged',\n",
       " 'hdpData.homeInfo.priceReduction',\n",
       " 'hdpData.homeInfo.priceChange',\n",
       " 'hdpData.homeInfo.zestimate',\n",
       " 'hdpData.homeInfo.rentZestimate',\n",
       " 'hdpData.homeInfo.unit',\n",
       " 'hdpData.homeInfo.videoCount',\n",
       " 'hdpData.homeInfo.listing_sub_type.is_newHome',\n",
       " 'hdpData.homeInfo.newConstructionType',\n",
       " 'info3String',\n",
       " 'hdpData.homeInfo.listing_sub_type.is_comingSoon',\n",
       " 'hdpData.homeInfo.comingSoonOnMarketDate',\n",
       " 'info2String',\n",
       " 'lotAreaString',\n",
       " 'info6String',\n",
       " 'variableData.data.isFresh',\n",
       " 'isPropertyResultCDP',\n",
       " 'builderName',\n",
       " 'hdpData.homeInfo.group_type',\n",
       " 'hdpData.homeInfo.priceSuffix',\n",
       " 'hdpData.homeInfo.providerListingID',\n",
       " 'streetViewMetadataURL',\n",
       " 'streetViewURL',\n",
       " 'hdpData.homeInfo.listing_sub_type.is_bankOwned']"
      ]
     },
     "execution_count": 99,
     "metadata": {},
     "output_type": "execute_result"
    }
   ],
   "source": [
    "cols"
   ]
  },
  {
   "cell_type": "code",
   "execution_count": 102,
   "id": "3c2c95bd-aebc-45eb-8a2b-1c17e632014e",
   "metadata": {},
   "outputs": [],
   "source": [
    "# needs some refining like implementation of variable to decide how to sort legend\n",
    "\n",
    "\n",
    "\n",
    "\n",
    "def sp_plot_according_to_(x,df,lon,lat,title='',legend_sort_key = None):\n",
    "    from matplotlib import pyplot as plt\n",
    "    import matplotlib.patches as mpatches\n",
    "    import numpy as np\n",
    "    locations = df[[lon,lat]].copy()\n",
    "    plotted = x\n",
    "    locations = locations.join(x)\n",
    "    for col in locations.columns:\n",
    "        # does not get rid of all nulls?\n",
    "        locations = locations[[pd.notnull(ele) for ele in locations[col].values]]\n",
    "    # any longitudinal or latitudinal value of zero is inconsistent with the data and is therefore a null value that must be removed\n",
    "    locations = locations[[ele!=0 for ele in locations[lon].values]]\n",
    "    locations = locations[[ele<-73.5 for ele in locations[lon].values]]\n",
    "    locations = locations[[ele!=0 for ele in locations[lat].values]]\n",
    "    locations = locations[[ele>38 for ele in locations[lat].values]]\n",
    "\n",
    "    latitude = [ele for ele in locations[lat].values]\n",
    "    longitude = [ele for ele in locations[lon].values]\n",
    "\n",
    "    colors = ['yellow','orange','red','green','purple']\n",
    "\n",
    "    counties = list(locations.iloc[:,-1].unique())\n",
    "\n",
    "    import random\n",
    "    get_colors = lambda n: [\"#%06x\" % random.randint(0, 0xFFFFFF) for _ in range(n)]\n",
    "    colors = get_colors(len(counties)) # sample return:  ['#8af5da', '#fbc08c', '#b741d0']\n",
    "    \n",
    "    if(legend_sort_key==None):\n",
    "        boroughs = sorted(list(locations.iloc[:,-1].value_counts().index), reverse = True)\n",
    "    else:\n",
    "        boroughs = sorted(list(locations.iloc[:,-1].value_counts().index),key = legend_sort_key, reverse = True)\n",
    "    \n",
    "    \n",
    "    cmap = [colors[boroughs.index(ele)] for ele in locations.iloc[:,-1]]\n",
    "    plt.scatter(longitude,latitude, c = cmap,  s=4)\n",
    "    plt.title(title)\n",
    "    plt.xlabel(\"LONGITUDE\")\n",
    "    plt.ylabel(\"LATITUDE\")\n",
    "    plt.legend(handles=[mpatches.Patch(color=colors[i], label=boroughs[i])for i in range(len(boroughs))],\n",
    "              bbox_to_anchor=(1, 1))\n",
    "    plt.show()"
   ]
  },
  {
   "cell_type": "code",
   "execution_count": 105,
   "id": "d700a8bf-17a9-4164-bc43-8cf838820ec0",
   "metadata": {},
   "outputs": [
    {
     "data": {
      "image/png": "[encoded data removed]",
      "text/plain": [
       "<Figure size 432x288 with 1 Axes>"
      ]
     },
     "metadata": {
      "needs_background": "light"
     },
     "output_type": "display_data"
    }
   ],
   "source": [
    "sp_plot_according_to_(x = big_data['beds'].copy(), df = big_data, lat = 'hdpData.homeInfo.latitude', lon = 'hdpData.homeInfo.longitude')"
   ]
  },
  {
   "cell_type": "code",
   "execution_count": 133,
   "id": "c1b72afd-4bbc-4264-aa79-670dcd9fab6b",
   "metadata": {},
   "outputs": [],
   "source": [
    "zesty = big_data[['hdpData.homeInfo.zestimate','price']]"
   ]
  },
  {
   "cell_type": "code",
   "execution_count": 130,
   "id": "7293cd86-ad74-4339-95de-44c4fcce542f",
   "metadata": {},
   "outputs": [],
   "source": [
    "big_data = pd.read_csv('small_zillow_info.csv')"
   ]
  },
  {
   "cell_type": "code",
   "execution_count": 188,
   "id": "8f1c5b41-7ea8-4a82-ab29-dabfa324b5cf",
   "metadata": {},
   "outputs": [
    {
     "ename": "TypeError",
     "evalue": "unsupported operand type(s) for -: 'float' and 'str'",
     "output_type": "error",
     "traceback": [
      "\u001b[0;31m---------------------------------------------------------------------------\u001b[0m",
      "\u001b[0;31mTypeError\u001b[0m                                 Traceback (most recent call last)",
      "File \u001b[0;32m~/opt/anaconda3/lib/python3.9/site-packages/pandas/core/ops/array_ops.py:163\u001b[0m, in \u001b[0;36m_na_arithmetic_op\u001b[0;34m(left, right, op, is_cmp)\u001b[0m\n\u001b[1;32m    162\u001b[0m \u001b[38;5;28;01mtry\u001b[39;00m:\n\u001b[0;32m--> 163\u001b[0m     result \u001b[38;5;241m=\u001b[39m \u001b[43mfunc\u001b[49m\u001b[43m(\u001b[49m\u001b[43mleft\u001b[49m\u001b[43m,\u001b[49m\u001b[43m \u001b[49m\u001b[43mright\u001b[49m\u001b[43m)\u001b[49m\n\u001b[1;32m    164\u001b[0m \u001b[38;5;28;01mexcept\u001b[39;00m \u001b[38;5;167;01mTypeError\u001b[39;00m:\n",
      "File \u001b[0;32m~/opt/anaconda3/lib/python3.9/site-packages/pandas/core/computation/expressions.py:239\u001b[0m, in \u001b[0;36mevaluate\u001b[0;34m(op, a, b, use_numexpr)\u001b[0m\n\u001b[1;32m    237\u001b[0m     \u001b[38;5;28;01mif\u001b[39;00m use_numexpr:\n\u001b[1;32m    238\u001b[0m         \u001b[38;5;66;03m# error: \"None\" not callable\u001b[39;00m\n\u001b[0;32m--> 239\u001b[0m         \u001b[38;5;28;01mreturn\u001b[39;00m \u001b[43m_evaluate\u001b[49m\u001b[43m(\u001b[49m\u001b[43mop\u001b[49m\u001b[43m,\u001b[49m\u001b[43m \u001b[49m\u001b[43mop_str\u001b[49m\u001b[43m,\u001b[49m\u001b[43m \u001b[49m\u001b[43ma\u001b[49m\u001b[43m,\u001b[49m\u001b[43m \u001b[49m\u001b[43mb\u001b[49m\u001b[43m)\u001b[49m  \u001b[38;5;66;03m# type: ignore[misc]\u001b[39;00m\n\u001b[1;32m    240\u001b[0m \u001b[38;5;28;01mreturn\u001b[39;00m _evaluate_standard(op, op_str, a, b)\n",
      "File \u001b[0;32m~/opt/anaconda3/lib/python3.9/site-packages/pandas/core/computation/expressions.py:128\u001b[0m, in \u001b[0;36m_evaluate_numexpr\u001b[0;34m(op, op_str, a, b)\u001b[0m\n\u001b[1;32m    127\u001b[0m \u001b[38;5;28;01mif\u001b[39;00m result \u001b[38;5;129;01mis\u001b[39;00m \u001b[38;5;28;01mNone\u001b[39;00m:\n\u001b[0;32m--> 128\u001b[0m     result \u001b[38;5;241m=\u001b[39m \u001b[43m_evaluate_standard\u001b[49m\u001b[43m(\u001b[49m\u001b[43mop\u001b[49m\u001b[43m,\u001b[49m\u001b[43m \u001b[49m\u001b[43mop_str\u001b[49m\u001b[43m,\u001b[49m\u001b[43m \u001b[49m\u001b[43ma\u001b[49m\u001b[43m,\u001b[49m\u001b[43m \u001b[49m\u001b[43mb\u001b[49m\u001b[43m)\u001b[49m\n\u001b[1;32m    130\u001b[0m \u001b[38;5;28;01mreturn\u001b[39;00m result\n",
      "File \u001b[0;32m~/opt/anaconda3/lib/python3.9/site-packages/pandas/core/computation/expressions.py:69\u001b[0m, in \u001b[0;36m_evaluate_standard\u001b[0;34m(op, op_str, a, b)\u001b[0m\n\u001b[1;32m     68\u001b[0m     _store_test_result(\u001b[38;5;28;01mFalse\u001b[39;00m)\n\u001b[0;32m---> 69\u001b[0m \u001b[38;5;28;01mreturn\u001b[39;00m \u001b[43mop\u001b[49m\u001b[43m(\u001b[49m\u001b[43ma\u001b[49m\u001b[43m,\u001b[49m\u001b[43m \u001b[49m\u001b[43mb\u001b[49m\u001b[43m)\u001b[49m\n",
      "\u001b[0;31mTypeError\u001b[0m: unsupported operand type(s) for -: 'float' and 'str'",
      "\nDuring handling of the above exception, another exception occurred:\n",
      "\u001b[0;31mTypeError\u001b[0m                                 Traceback (most recent call last)",
      "Input \u001b[0;32mIn [188]\u001b[0m, in \u001b[0;36m<cell line: 2>\u001b[0;34m()\u001b[0m\n\u001b[1;32m      1\u001b[0m super_ \u001b[38;5;241m=\u001b[39m zesty[zesty\u001b[38;5;241m.\u001b[39miloc[:,\u001b[38;5;241m0\u001b[39m]\u001b[38;5;241m.\u001b[39mnotna()]\n\u001b[0;32m----> 2\u001b[0m duper \u001b[38;5;241m=\u001b[39m  super_[\u001b[43msuper_\u001b[49m\u001b[38;5;241;43m.\u001b[39;49m\u001b[43miloc\u001b[49m\u001b[43m[\u001b[49m\u001b[43m:\u001b[49m\u001b[43m,\u001b[49m\u001b[38;5;241;43m0\u001b[39;49m\u001b[43m]\u001b[49m\u001b[43m \u001b[49m\u001b[38;5;241;43m-\u001b[39;49m\u001b[43m \u001b[49m\u001b[43msuper_\u001b[49m\u001b[38;5;241;43m.\u001b[39;49m\u001b[43miloc\u001b[49m\u001b[43m[\u001b[49m\u001b[43m:\u001b[49m\u001b[43m,\u001b[49m\u001b[38;5;241;43m1\u001b[39;49m\u001b[43m]\u001b[49m]\n",
      "File \u001b[0;32m~/opt/anaconda3/lib/python3.9/site-packages/pandas/core/ops/common.py:70\u001b[0m, in \u001b[0;36m_unpack_zerodim_and_defer.<locals>.new_method\u001b[0;34m(self, other)\u001b[0m\n\u001b[1;32m     66\u001b[0m             \u001b[38;5;28;01mreturn\u001b[39;00m \u001b[38;5;28mNotImplemented\u001b[39m\n\u001b[1;32m     68\u001b[0m other \u001b[38;5;241m=\u001b[39m item_from_zerodim(other)\n\u001b[0;32m---> 70\u001b[0m \u001b[38;5;28;01mreturn\u001b[39;00m \u001b[43mmethod\u001b[49m\u001b[43m(\u001b[49m\u001b[38;5;28;43mself\u001b[39;49m\u001b[43m,\u001b[49m\u001b[43m \u001b[49m\u001b[43mother\u001b[49m\u001b[43m)\u001b[49m\n",
      "File \u001b[0;32m~/opt/anaconda3/lib/python3.9/site-packages/pandas/core/arraylike.py:108\u001b[0m, in \u001b[0;36mOpsMixin.__sub__\u001b[0;34m(self, other)\u001b[0m\n\u001b[1;32m    106\u001b[0m \u001b[38;5;129m@unpack_zerodim_and_defer\u001b[39m(\u001b[38;5;124m\"\u001b[39m\u001b[38;5;124m__sub__\u001b[39m\u001b[38;5;124m\"\u001b[39m)\n\u001b[1;32m    107\u001b[0m \u001b[38;5;28;01mdef\u001b[39;00m \u001b[38;5;21m__sub__\u001b[39m(\u001b[38;5;28mself\u001b[39m, other):\n\u001b[0;32m--> 108\u001b[0m     \u001b[38;5;28;01mreturn\u001b[39;00m \u001b[38;5;28;43mself\u001b[39;49m\u001b[38;5;241;43m.\u001b[39;49m\u001b[43m_arith_method\u001b[49m\u001b[43m(\u001b[49m\u001b[43mother\u001b[49m\u001b[43m,\u001b[49m\u001b[43m \u001b[49m\u001b[43moperator\u001b[49m\u001b[38;5;241;43m.\u001b[39;49m\u001b[43msub\u001b[49m\u001b[43m)\u001b[49m\n",
      "File \u001b[0;32m~/opt/anaconda3/lib/python3.9/site-packages/pandas/core/series.py:5639\u001b[0m, in \u001b[0;36mSeries._arith_method\u001b[0;34m(self, other, op)\u001b[0m\n\u001b[1;32m   5637\u001b[0m \u001b[38;5;28;01mdef\u001b[39;00m \u001b[38;5;21m_arith_method\u001b[39m(\u001b[38;5;28mself\u001b[39m, other, op):\n\u001b[1;32m   5638\u001b[0m     \u001b[38;5;28mself\u001b[39m, other \u001b[38;5;241m=\u001b[39m ops\u001b[38;5;241m.\u001b[39malign_method_SERIES(\u001b[38;5;28mself\u001b[39m, other)\n\u001b[0;32m-> 5639\u001b[0m     \u001b[38;5;28;01mreturn\u001b[39;00m \u001b[43mbase\u001b[49m\u001b[38;5;241;43m.\u001b[39;49m\u001b[43mIndexOpsMixin\u001b[49m\u001b[38;5;241;43m.\u001b[39;49m\u001b[43m_arith_method\u001b[49m\u001b[43m(\u001b[49m\u001b[38;5;28;43mself\u001b[39;49m\u001b[43m,\u001b[49m\u001b[43m \u001b[49m\u001b[43mother\u001b[49m\u001b[43m,\u001b[49m\u001b[43m \u001b[49m\u001b[43mop\u001b[49m\u001b[43m)\u001b[49m\n",
      "File \u001b[0;32m~/opt/anaconda3/lib/python3.9/site-packages/pandas/core/base.py:1295\u001b[0m, in \u001b[0;36mIndexOpsMixin._arith_method\u001b[0;34m(self, other, op)\u001b[0m\n\u001b[1;32m   1292\u001b[0m rvalues \u001b[38;5;241m=\u001b[39m ensure_wrapped_if_datetimelike(rvalues)\n\u001b[1;32m   1294\u001b[0m \u001b[38;5;28;01mwith\u001b[39;00m np\u001b[38;5;241m.\u001b[39merrstate(\u001b[38;5;28mall\u001b[39m\u001b[38;5;241m=\u001b[39m\u001b[38;5;124m\"\u001b[39m\u001b[38;5;124mignore\u001b[39m\u001b[38;5;124m\"\u001b[39m):\n\u001b[0;32m-> 1295\u001b[0m     result \u001b[38;5;241m=\u001b[39m \u001b[43mops\u001b[49m\u001b[38;5;241;43m.\u001b[39;49m\u001b[43marithmetic_op\u001b[49m\u001b[43m(\u001b[49m\u001b[43mlvalues\u001b[49m\u001b[43m,\u001b[49m\u001b[43m \u001b[49m\u001b[43mrvalues\u001b[49m\u001b[43m,\u001b[49m\u001b[43m \u001b[49m\u001b[43mop\u001b[49m\u001b[43m)\u001b[49m\n\u001b[1;32m   1297\u001b[0m \u001b[38;5;28;01mreturn\u001b[39;00m \u001b[38;5;28mself\u001b[39m\u001b[38;5;241m.\u001b[39m_construct_result(result, name\u001b[38;5;241m=\u001b[39mres_name)\n",
      "File \u001b[0;32m~/opt/anaconda3/lib/python3.9/site-packages/pandas/core/ops/array_ops.py:222\u001b[0m, in \u001b[0;36marithmetic_op\u001b[0;34m(left, right, op)\u001b[0m\n\u001b[1;32m    217\u001b[0m \u001b[38;5;28;01melse\u001b[39;00m:\n\u001b[1;32m    218\u001b[0m     \u001b[38;5;66;03m# TODO we should handle EAs consistently and move this check before the if/else\u001b[39;00m\n\u001b[1;32m    219\u001b[0m     \u001b[38;5;66;03m# (https://github.com/pandas-dev/pandas/issues/41165)\u001b[39;00m\n\u001b[1;32m    220\u001b[0m     _bool_arith_check(op, left, right)\n\u001b[0;32m--> 222\u001b[0m     res_values \u001b[38;5;241m=\u001b[39m \u001b[43m_na_arithmetic_op\u001b[49m\u001b[43m(\u001b[49m\u001b[43mleft\u001b[49m\u001b[43m,\u001b[49m\u001b[43m \u001b[49m\u001b[43mright\u001b[49m\u001b[43m,\u001b[49m\u001b[43m \u001b[49m\u001b[43mop\u001b[49m\u001b[43m)\u001b[49m\n\u001b[1;32m    224\u001b[0m \u001b[38;5;28;01mreturn\u001b[39;00m res_values\n",
      "File \u001b[0;32m~/opt/anaconda3/lib/python3.9/site-packages/pandas/core/ops/array_ops.py:170\u001b[0m, in \u001b[0;36m_na_arithmetic_op\u001b[0;34m(left, right, op, is_cmp)\u001b[0m\n\u001b[1;32m    164\u001b[0m \u001b[38;5;28;01mexcept\u001b[39;00m \u001b[38;5;167;01mTypeError\u001b[39;00m:\n\u001b[1;32m    165\u001b[0m     \u001b[38;5;28;01mif\u001b[39;00m \u001b[38;5;129;01mnot\u001b[39;00m is_cmp \u001b[38;5;129;01mand\u001b[39;00m (is_object_dtype(left\u001b[38;5;241m.\u001b[39mdtype) \u001b[38;5;129;01mor\u001b[39;00m is_object_dtype(right)):\n\u001b[1;32m    166\u001b[0m         \u001b[38;5;66;03m# For object dtype, fallback to a masked operation (only operating\u001b[39;00m\n\u001b[1;32m    167\u001b[0m         \u001b[38;5;66;03m#  on the non-missing values)\u001b[39;00m\n\u001b[1;32m    168\u001b[0m         \u001b[38;5;66;03m# Don't do this for comparisons, as that will handle complex numbers\u001b[39;00m\n\u001b[1;32m    169\u001b[0m         \u001b[38;5;66;03m#  incorrectly, see GH#32047\u001b[39;00m\n\u001b[0;32m--> 170\u001b[0m         result \u001b[38;5;241m=\u001b[39m \u001b[43m_masked_arith_op\u001b[49m\u001b[43m(\u001b[49m\u001b[43mleft\u001b[49m\u001b[43m,\u001b[49m\u001b[43m \u001b[49m\u001b[43mright\u001b[49m\u001b[43m,\u001b[49m\u001b[43m \u001b[49m\u001b[43mop\u001b[49m\u001b[43m)\u001b[49m\n\u001b[1;32m    171\u001b[0m     \u001b[38;5;28;01melse\u001b[39;00m:\n\u001b[1;32m    172\u001b[0m         \u001b[38;5;28;01mraise\u001b[39;00m\n",
      "File \u001b[0;32m~/opt/anaconda3/lib/python3.9/site-packages/pandas/core/ops/array_ops.py:108\u001b[0m, in \u001b[0;36m_masked_arith_op\u001b[0;34m(x, y, op)\u001b[0m\n\u001b[1;32m    106\u001b[0m     \u001b[38;5;66;03m# See GH#5284, GH#5035, GH#19448 for historical reference\u001b[39;00m\n\u001b[1;32m    107\u001b[0m     \u001b[38;5;28;01mif\u001b[39;00m mask\u001b[38;5;241m.\u001b[39many():\n\u001b[0;32m--> 108\u001b[0m         result[mask] \u001b[38;5;241m=\u001b[39m \u001b[43mop\u001b[49m\u001b[43m(\u001b[49m\u001b[43mxrav\u001b[49m\u001b[43m[\u001b[49m\u001b[43mmask\u001b[49m\u001b[43m]\u001b[49m\u001b[43m,\u001b[49m\u001b[43m \u001b[49m\u001b[43myrav\u001b[49m\u001b[43m[\u001b[49m\u001b[43mmask\u001b[49m\u001b[43m]\u001b[49m\u001b[43m)\u001b[49m\n\u001b[1;32m    110\u001b[0m \u001b[38;5;28;01melse\u001b[39;00m:\n\u001b[1;32m    111\u001b[0m     \u001b[38;5;28;01mif\u001b[39;00m \u001b[38;5;129;01mnot\u001b[39;00m is_scalar(y):\n",
      "\u001b[0;31mTypeError\u001b[0m: unsupported operand type(s) for -: 'float' and 'str'"
     ]
    }
   ],
   "source": [
    "super_ = zesty[zesty.iloc[:,0].notna()]\n",
    "duper =  super_[super_.iloc[:,0] - super_.iloc[:,1]]"
   ]
  },
  {
   "cell_type": "code",
   "execution_count": 184,
   "id": "7a2a7566-3702-432a-9312-3c4f57473759",
   "metadata": {},
   "outputs": [
    {
     "name": "stderr",
     "output_type": "stream",
     "text": [
      "/var/folders/tc/5j2qyb8s4t76fc3t5ycfwvl40000gn/T/ipykernel_7430/6551257.py:1: SettingWithCopyWarning: \n",
      "A value is trying to be set on a copy of a slice from a DataFrame.\n",
      "Try using .loc[row_indexer,col_indexer] = value instead\n",
      "\n",
      "See the caveats in the documentation: https://pandas.pydata.org/pandas-docs/stable/user_guide/indexing.html#returning-a-view-versus-a-copy\n",
      "  super_.iloc[:,1] = super_.iloc[:,1].map(lambda x: numericize(x))\n"
     ]
    }
   ],
   "source": [
    "super_.iloc[:,1] = super_.iloc[:,1].map(lambda x: numericize(x))"
   ]
  },
  {
   "cell_type": "code",
   "execution_count": 162,
   "id": "574037da-7606-4ce9-aa47-397f04915a8b",
   "metadata": {},
   "outputs": [],
   "source": [
    "import re"
   ]
  },
  {
   "cell_type": "code",
   "execution_count": 191,
   "id": "364ce9af-357e-40c4-aea3-60969ab92460",
   "metadata": {},
   "outputs": [
    {
     "data": {
      "text/plain": [
       "7      357500.0\n",
       "9      205100.0\n",
       "12     416600.0\n",
       "18     422500.0\n",
       "29     867900.0\n",
       "         ...   \n",
       "601    411491.0\n",
       "602    350200.0\n",
       "604    354100.0\n",
       "606    283200.0\n",
       "612    252300.0\n",
       "Name: hdpData.homeInfo.zestimate, Length: 187, dtype: float64"
      ]
     },
     "execution_count": 191,
     "metadata": {},
     "output_type": "execute_result"
    }
   ],
   "source": [
    "super_.iloc[:,0]"
   ]
  },
  {
   "cell_type": "code",
   "execution_count": 183,
   "id": "7cb15735-71fe-46fb-8312-317ab18c168a",
   "metadata": {},
   "outputs": [],
   "source": [
    "def numericize(txt):\n",
    "    if isinstance(txt, str):\n",
    "        return float(''.join([digit for digit in txt if digit.isnumeric()]))\n",
    "    else: \n",
    "        return txt"
   ]
  },
  {
   "cell_type": "code",
   "execution_count": 204,
   "id": "184ce166-ae89-499f-80e9-e529f05b981a",
   "metadata": {},
   "outputs": [],
   "source": [
    "super_.index = list(range(len(super_)))\n",
    "\n",
    "yo = super_.iloc[:,0]\n",
    "\n",
    "bo = super_.iloc[:,1]"
   ]
  },
  {
   "cell_type": "code",
   "execution_count": 205,
   "id": "d1eef715-161b-4e37-a9dd-5ad0f58fc05b",
   "metadata": {},
   "outputs": [
    {
     "data": {
      "text/plain": [
       "Int64Index([  0,   1,   2,   3,   4,   5,   6,   7,   8,   9,\n",
       "            ...\n",
       "            177, 178, 179, 180, 181, 182, 183, 184, 185, 186],\n",
       "           dtype='int64', length=187)"
      ]
     },
     "execution_count": 205,
     "metadata": {},
     "output_type": "execute_result"
    }
   ],
   "source": [
    "bo.index"
   ]
  },
  {
   "cell_type": "code",
   "execution_count": 208,
   "id": "5dc40bcd-3483-4c0a-80a8-07e54c2a6934",
   "metadata": {},
   "outputs": [
    {
     "data": {
      "text/plain": [
       "[]"
      ]
     },
     "execution_count": 208,
     "metadata": {},
     "output_type": "execute_result"
    }
   ],
   "source": [
    "[x for x in yo if type(x) == 'float64']"
   ]
  },
  {
   "cell_type": "code",
   "execution_count": null,
   "id": "b09153f1-531b-4077-bc46-8aef0d6bd34a",
   "metadata": {},
   "outputs": [],
   "source": []
  }
 ],
 "metadata": {
  "kernelspec": {
   "display_name": "Python 3 (ipykernel)",
   "language": "python",
   "name": "python3"
  },
  "language_info": {
   "codemirror_mode": {
    "name": "ipython",
    "version": 3
   },
   "file_extension": ".py",
   "mimetype": "text/x-python",
   "name": "python",
   "nbconvert_exporter": "python",
   "pygments_lexer": "ipython3",
   "version": "3.9.12"
  }
 },
 "nbformat": 4,
 "nbformat_minor": 5
}
