{
 "cells": [
  {
   "cell_type": "code",
   "execution_count": 1,
   "id": "87eb18ec-96f3-4d09-ab0f-1ea5ab8a579b",
   "metadata": {},
   "outputs": [
    {
     "ename": "SyntaxError",
     "evalue": "invalid syntax (4252469951.py, line 1)",
     "output_type": "error",
     "traceback": [
      "\u001b[0;36m  Input \u001b[0;32mIn [1]\u001b[0;36m\u001b[0m\n\u001b[0;31m    with p_m as (select person_id, count(movie_id) as movie_count from movie_crew group by person_id, job having job = 'Director')\u001b[0m\n\u001b[0m                        ^\u001b[0m\n\u001b[0;31mSyntaxError\u001b[0m\u001b[0;31m:\u001b[0m invalid syntax\n"
     ]
    }
   ],
   "source": [
    "with p_m as (select person_id, count(movie_id) as movie_count from movie_crew group by person_id, job having job = 'Director')\n",
    "select person_name, movie_count from p_m inner join person on p_m.person_id = person.person_id where movie_count > 20 order by movie_count desc;"
   ]
  },
  {
   "cell_type": "code",
   "execution_count": 2,
   "id": "68b2db9f-8ac9-4bfd-9999-5c6d736aacc1",
   "metadata": {},
   "outputs": [
    {
     "name": "stdout",
     "output_type": "stream",
     "text": [
      "<!DOCTYPE html>\n",
      "<html>\n",
      "<head>\n",
      "<title></title>\n",
      "</head>\n",
      "<body>\n",
      "<section>\n",
      "<h2>Dune</h2>\n",
      "<ul>\n",
      "<li>Frank Herbert</li>\n",
      "<li>5</li>\n",
      "</ul>\n",
      "</section>\n",
      "<section>\n",
      "<h2>Neuromancer</h2>\n",
      "<ul>\n",
      "<li>William Gibson</li>\n",
      "<li>3.9</li>\n",
      "</ul>\n",
      "</section>\n",
      "<section>\n",
      "<h2>Frankenstein</h2>\n",
      "<ul>\n",
      "<li>Mary Shelley</li>\n",
      "<li>4.5</li>\n",
      "</ul>\n",
      "</section>\n",
      "</body>\n",
      "</html>\n",
      "\n"
     ]
    }
   ],
   "source": [
    "from bs4 import BeautifulSoup\n",
    "import requests\n",
    "\n",
    "url = \"https://cs.nyu.edu/~jversoza/dma/final2022/example.html\"\n",
    "res = requests.get(url)\n",
    "dom = BeautifulSoup(res.text)\n",
    "print(dom)"
   ]
  },
  {
   "cell_type": "code",
   "execution_count": 14,
   "id": "325bc2ca-2c91-4715-86e7-f05aff2da9f4",
   "metadata": {},
   "outputs": [
    {
     "name": "stdout",
     "output_type": "stream",
     "text": [
      "Dune by Frank Herbert\n",
      "Frankenstein by Mary Shelley\n"
     ]
    }
   ],
   "source": [
    "vals = dom.select('section')\n",
    "for val in vals:\n",
    "    if(float(val.select('li')[1].text) > 4):\n",
    "        print(val.select('h2')[0].text,'by',val.select('li')[0].text)\n",
    "        \n"
   ]
  },
  {
   "cell_type": "code",
   "execution_count": null,
   "id": "765fcd01-4e27-4792-886d-2b8cde3d4744",
   "metadata": {},
   "outputs": [],
   "source": []
  }
 ],
 "metadata": {
  "kernelspec": {
   "display_name": "Python 3 (ipykernel)",
   "language": "python",
   "name": "python3"
  },
  "language_info": {
   "codemirror_mode": {
    "name": "ipython",
    "version": 3
   },
   "file_extension": ".py",
   "mimetype": "text/x-python",
   "name": "python",
   "nbconvert_exporter": "python",
   "pygments_lexer": "ipython3",
   "version": "3.9.12"
  }
 },
 "nbformat": 4,
 "nbformat_minor": 5
}
